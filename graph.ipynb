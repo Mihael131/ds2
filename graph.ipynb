{
 "cells": [
  {
   "cell_type": "code",
   "execution_count": 144,
   "metadata": {
    "collapsed": false
   },
   "outputs": [
    {
     "name": "stdout",
     "output_type": "stream",
     "text": [
      "Populating the interactive namespace from numpy and matplotlib\n"
     ]
    },
    {
     "data": {
      "text/html": [
       "<script>requirejs.config({paths: { 'plotly': ['https://cdn.plot.ly/plotly-latest.min']},});if(!window.Plotly) {{require(['plotly'],function(plotly) {window.Plotly=plotly;});}}</script>"
      ],
      "text/vnd.plotly.v1+html": [
       "<script>requirejs.config({paths: { 'plotly': ['https://cdn.plot.ly/plotly-latest.min']},});if(!window.Plotly) {{require(['plotly'],function(plotly) {window.Plotly=plotly;});}}</script>"
      ]
     },
     "metadata": {},
     "output_type": "display_data"
    }
   ],
   "source": [
    "from __future__ import (absolute_import, division,\n",
    "                        print_function, unicode_literals)\n",
    "# отключим предупреждения Anaconda\n",
    "import warnings\n",
    "warnings.simplefilter('ignore')\n",
    "\n",
    "# будем отображать графики прямо в jupyter'e\n",
    "%pylab inline\n",
    "\n",
    "#увеличим дефолтный размер графиков\n",
    "from pylab import rcParams\n",
    "rcParams['figure.figsize'] = 10, 6\n",
    "\n",
    "import pandas as pd\n",
    "import seaborn as sns\n",
    "\n",
    "from plotly.offline import download_plotlyjs, init_notebook_mode, plot, iplot\n",
    "import plotly\n",
    "import plotly.graph_objs as go\n",
    "\n",
    "init_notebook_mode(connected=True)\n",
    "\n",
    "import pandahouse as ph"
   ]
  },
  {
   "cell_type": "code",
   "execution_count": 145,
   "metadata": {
    "collapsed": true
   },
   "outputs": [],
   "source": [
    "HOST = ''\n",
    "DB = ''"
   ]
  },
  {
   "cell_type": "code",
   "execution_count": 146,
   "metadata": {
    "collapsed": false
   },
   "outputs": [],
   "source": [
    "#чтение данных с кликхауса или файла\n",
    "def readClickHouse(query = '', fileName = '1.csv', host = HOST, db = DB):\n",
    "    if host != '':\n",
    "        data = ph.read_clickhouse(query, connection={'host': host, 'database': db})\n",
    "        open(fileName, 'w').write(data.to_csv())\n",
    "    else:\n",
    "        try:\n",
    "            f = open(fileName)\n",
    "        except IOError as e:\n",
    "            print('Не удалось открыть файл')\n",
    "        else:\n",
    "            data = pd.read_csv(fileName, sep = ',')\n",
    "            data = data[[x for x in data.columns if x != 'Unnamed: 0']]\n",
    "    return data"
   ]
  },
  {
   "cell_type": "code",
   "execution_count": 147,
   "metadata": {
    "collapsed": true
   },
   "outputs": [],
   "source": [
    "#запрос первый\n",
    "def getQuery1():\n",
    "    depth = [1, 2, 5, 10, 15, 20]\n",
    "    query = 'select\\n'\n",
    "    query += 'offer_id,\\n'\n",
    "    query += 'page_type,\\n'\n",
    "    \n",
    "    depLast = 0\n",
    "    for dep in depth:\n",
    "        query += 'uniqIf(session_id, '\n",
    "        query += str(depLast) + ' < depth and depth <= ' + str(dep)\n",
    "        query += ') as s' + str(dep) + ',\\n'\n",
    "        depLast = dep\n",
    "    \n",
    "    query += 'uniqIf(session_id, ' + str(depLast) + ' < depth) as sOver\\n'\n",
    "    query += 'from {db}.rtb WHERE date = today()\\n'\n",
    "    query += 'group by offer_id, page_type\\n'\n",
    "    query += 'order by offer_id, page_type'\n",
    "    return query"
   ]
  },
  {
   "cell_type": "code",
   "execution_count": 148,
   "metadata": {
    "collapsed": false
   },
   "outputs": [],
   "source": [
    "df1 = readClickHouse(getQuery1(), 'query1.csv')"
   ]
  },
  {
   "cell_type": "markdown",
   "metadata": {},
   "source": [
    "### Распределение кол-ва сессий с заданной глубиной по офферам\n",
    "* s1: depth = 1\n",
    "* s2: 1 < depth <= 2\n",
    "* s5: 2 < depth <= 5\n",
    "* s10: 5 < depth <= 10\n",
    "* s15: 10 < depth <= 15\n",
    "* s20: 15 < depth <= 20\n",
    "* sOver: depth > 20"
   ]
  },
  {
   "cell_type": "code",
   "execution_count": 149,
   "metadata": {
    "collapsed": false,
    "scrolled": false
   },
   "outputs": [
    {
     "data": {
      "text/plain": [
       "<matplotlib.axes._subplots.AxesSubplot at 0x7fda896092e8>"
      ]
     },
     "execution_count": 149,
     "metadata": {},
     "output_type": "execute_result"
    },
    {
     "data": {
      "image/png": "[encoded data removed]",
      "text/plain": [
       "<matplotlib.figure.Figure at 0x7fda8939aeb8>"
      ]
     },
     "metadata": {},
     "output_type": "display_data"
    }
   ],
   "source": [
    "df1.groupby('offer_id').sum().plot(kind='bar', rot=0)"
   ]
  },
  {
   "cell_type": "markdown",
   "metadata": {},
   "source": [
    "### Распределение кол-ва сессий с заказами с заданной глубиной по офферам. \n",
    "* s1: depth = 1\n",
    "* s2: 1 < depth <= 2\n",
    "* s5: 2 < depth <= 5\n",
    "* s10: 5 < depth <= 10\n",
    "* s15: 10 < depth <= 15\n",
    "* s20: 15 < depth <= 20\n",
    "* sOver: depth > 20"
   ]
  },
  {
   "cell_type": "code",
   "execution_count": 150,
   "metadata": {
    "collapsed": false
   },
   "outputs": [
    {
     "data": {
      "text/plain": [
       "<matplotlib.axes._subplots.AxesSubplot at 0x7fda893c76d8>"
      ]
     },
     "execution_count": 150,
     "metadata": {},
     "output_type": "execute_result"
    },
    {
     "data": {
      "image/png": "[encoded data removed]",
      "text/plain": [
       "<matplotlib.figure.Figure at 0x7fda892c7f28>"
      ]
     },
     "metadata": {},
     "output_type": "display_data"
    }
   ],
   "source": [
    "df1[df1['page_type'] == 'typ'].groupby('offer_id').sum().plot(kind='bar', rot=0)"
   ]
  },
  {
   "cell_type": "markdown",
   "metadata": {},
   "source": [
    "### Распределение кол-ва сессий с заданной глубиной по типам посещаемых страниц (для всех офферов).  \n",
    "* s1: depth = 1\n",
    "* s2: 1 < depth <= 2\n",
    "* s5: 2 < depth <= 5\n",
    "* s10: 5 < depth <= 10\n",
    "* s15: 10 < depth <= 15\n",
    "* s20: 15 < depth <= 20\n",
    "* sOver: depth > 20"
   ]
  },
  {
   "cell_type": "code",
   "execution_count": 151,
   "metadata": {
    "collapsed": false
   },
   "outputs": [
    {
     "data": {
      "text/plain": [
       "<matplotlib.axes._subplots.AxesSubplot at 0x7fda87267160>"
      ]
     },
     "execution_count": 151,
     "metadata": {},
     "output_type": "execute_result"
    },
    {
     "data": {
      "image/png": "[encoded data removed]",
      "text/plain": [
       "<matplotlib.figure.Figure at 0x7fda892cd780>"
      ]
     },
     "metadata": {},
     "output_type": "display_data"
    }
   ],
   "source": [
    "df1[[x for x in df1.columns if x != 'offer_id']].groupby('page_type').sum().plot(kind='bar', rot=0)"
   ]
  },
  {
   "cell_type": "markdown",
   "metadata": {},
   "source": [
    "### Распределение кол-ва сессий с заданной глубиной по всем офферам.  \n",
    "* s1: depth = 1\n",
    "* s2: 1 < depth <= 2\n",
    "* s5: 2 < depth <= 5\n",
    "* s10: 5 < depth <= 10\n",
    "* s15: 10 < depth <= 15\n",
    "* s20: 15 < depth <= 20\n",
    "* sOver: depth > 20"
   ]
  },
  {
   "cell_type": "code",
   "execution_count": 152,
   "metadata": {
    "collapsed": false
   },
   "outputs": [
    {
     "data": {
      "text/plain": [
       "<matplotlib.axes._subplots.AxesSubplot at 0x7fda870fc8d0>"
      ]
     },
     "execution_count": 152,
     "metadata": {},
     "output_type": "execute_result"
    },
    {
     "data": {
      "image/png": "[encoded data removed]",
      "text/plain": [
       "<matplotlib.figure.Figure at 0x7fda87107668>"
      ]
     },
     "metadata": {},
     "output_type": "display_data"
    }
   ],
   "source": [
    "df1.groupby('offer_id').sum().sum().plot(kind='bar', rot=0, color='black')"
   ]
  },
  {
   "cell_type": "markdown",
   "metadata": {},
   "source": [
    "### Распределение кол-ва сессий с заказами с заданной глубиной по всем офферам. \n",
    "* s1: depth = 1\n",
    "* s2: 1 < depth <= 2\n",
    "* s5: 2 < depth <= 5\n",
    "* s10: 5 < depth <= 10\n",
    "* s15: 10 < depth <= 15\n",
    "* s20: 15 < depth <= 20\n",
    "* sOver: depth > 20"
   ]
  },
  {
   "cell_type": "code",
   "execution_count": 153,
   "metadata": {
    "collapsed": false
   },
   "outputs": [
    {
     "data": {
      "text/plain": [
       "<matplotlib.axes._subplots.AxesSubplot at 0x7fda8708c198>"
      ]
     },
     "execution_count": 153,
     "metadata": {},
     "output_type": "execute_result"
    },
    {
     "data": {
      "image/png": "[encoded data removed]",
      "text/plain": [
       "<matplotlib.figure.Figure at 0x7fda87092048>"
      ]
     },
     "metadata": {},
     "output_type": "display_data"
    }
   ],
   "source": [
    "df1[df1['page_type'] == 'typ'].groupby('offer_id').sum().sum().plot(kind='bar', rot=0, color='black')"
   ]
  },
  {
   "cell_type": "code",
   "execution_count": 62,
   "metadata": {
    "collapsed": false
   },
   "outputs": [
    {
     "data": {
      "image/png": "[encoded data removed]",
      "text/plain": [
       "<matplotlib.figure.Figure at 0x7fda7ea6c828>"
      ]
     },
     "metadata": {},
     "output_type": "display_data"
    }
   ],
   "source": [
    "cols = ['s1', 's2', 's5', 's10', 's15', 's20', 'sOver']\n",
    "sns_plot = sns.pairplot(df1[cols])\n",
    "sns_plot.savefig('pairplot.png') "
   ]
  },
  {
   "cell_type": "code",
   "execution_count": 154,
   "metadata": {
    "collapsed": false
   },
   "outputs": [],
   "source": [
    "#запрос 2\n",
    "def getSubQuery():\n",
    "    return '''\n",
    "    select \n",
    "    offer_id, \n",
    "    session_id,\n",
    "    min(datetime) as start_time,\n",
    "    max(datetime) as end_time,\n",
    "    max(datetime) - min(datetime) as duration,\n",
    "    count(*) as clicks_count,\n",
    "    max(depth) as max_depth,\n",
    "    countIf(order_id != '') as orders_count,\n",
    "    countIf(page_type = 'typ') as typ_count,\n",
    "    countIf(page_type = 'basket') as basket_count,\n",
    "    anyLast(source) as last_source\n",
    "    from {db}.rtb\n",
    "    group by offer_id, session_id\n",
    "'''\n",
    "\n",
    "def getQuery2():\n",
    "    return '''\n",
    "        select\n",
    "        offer_id,\n",
    "        max_depth,\n",
    "        count(*) as sessions_count,\n",
    "        countIf(typ_count > 0) as sessions_typ_count\n",
    "        from (''' + getSubQuery() + ''') visits \n",
    "        group by offer_id, max_depth\n",
    "        order by offer_id, max_depth\n",
    "'''\n",
    "\n",
    "def getQuery2All():\n",
    "    return '''\n",
    "        select\n",
    "        max_depth,\n",
    "        count(*) as sessions_count,\n",
    "        countIf(typ_count > 0) as sessions_typ_count\n",
    "        from (''' + getSubQuery() + ''') visits \n",
    "        group by max_depth\n",
    "        order by max_depth\n",
    "'''\n"
   ]
  },
  {
   "cell_type": "code",
   "execution_count": 155,
   "metadata": {
    "collapsed": true
   },
   "outputs": [],
   "source": [
    "df2 = readClickHouse(getQuery2(), 'query2.csv')\n",
    "df2All = readClickHouse(getQuery2All(), 'query2All.csv')"
   ]
  },
  {
   "cell_type": "code",
   "execution_count": 156,
   "metadata": {
    "collapsed": false
   },
   "outputs": [],
   "source": [
    "def draw2(offer_id = 8):\n",
    "    layout2_1 = {'title': 'Offer ' + str(offer_id), 'xaxis': {'title': 'Максимальная глубина сессии'}, 'yaxis': {'title': 'Кол-во сессий'}}\n",
    "    df2_1 = df2[df2.offer_id == offer_id][['max_depth'] + ['sessions_count'] + ['sessions_typ_count']]\n",
    "    df2_1 = df2_1[df2_1.max_depth < 30]\n",
    "    trace2_1 = go.Scatter(x = df2_1['max_depth'], y = df2_1['sessions_count'], name = 'OfferId ' + str(offer_id))\n",
    "    iplot(go.Figure(data=[trace2_1], layout=layout2_1), show_link = False)\n",
    "\n",
    "    layout2_2 = {'title': 'Offer ' + str(offer_id), 'xaxis': {'title': 'Максимальная глубина сессии'}, 'yaxis': {'title': 'Кол-во сессий с заказами'}}\n",
    "    df2_2 = df2[df2.offer_id == offer_id][['max_depth'] + ['sessions_count'] + ['sessions_typ_count']]\n",
    "    df2_2 = df2_2[df2_2.max_depth < 200]\n",
    "    trace2_2 = go.Scatter(x = df2_2['max_depth'], y = df2_2['sessions_typ_count'], name = 'OfferId ' + str(offer_id))\n",
    "    iplot(go.Figure(data=[trace2_2], layout=layout2_2), show_link = False)\n",
    "    \n",
    "def draw2All():\n",
    "    layout2_1 = {'title': 'По всем офферам', 'xaxis': {'title': 'Максимальная глубина сессии'}, 'yaxis': {'title': 'Кол-во сессий'}}\n",
    "    df2_1 = df2All[df2All.max_depth < 30][['max_depth'] + ['sessions_count'] + ['sessions_typ_count']]\n",
    "    trace2_1 = go.Scatter(x = df2_1['max_depth'], y = df2_1['sessions_count'], name = 'All Offers')\n",
    "    iplot(go.Figure(data=[trace2_1], layout=layout2_1), show_link = False)\n",
    "\n",
    "    layout2_2 = {'title': 'По всем офферам', 'xaxis': {'title': 'Максимальная глубина сессии'}, 'yaxis': {'title': 'Кол-во сессий с заказами'}}\n",
    "    df2_2 = df2All[df2All.max_depth < 200][['max_depth'] + ['sessions_count'] + ['sessions_typ_count']]\n",
    "    trace2_2 = go.Scatter(x = df2_2['max_depth'], y = df2_2['sessions_typ_count'], name = 'All Offers')\n",
    "    iplot(go.Figure(data=[trace2_2], layout=layout2_2), show_link = False)"
   ]
  },
  {
   "cell_type": "markdown",
   "metadata": {},
   "source": [
    "### Зависимость кол-ва сессий от максимальной глубины сессии для выбранного оффера\n",
    "#### 1. Все сессии\n",
    "#### 2. Сессии с заказами"
   ]
  },
  {
   "cell_type": "code",
   "execution_count": 157,
   "metadata": {
    "collapsed": false
   },
   "outputs": [
    {
     "data": {
      "application/vnd.plotly.v1+json": {
       "data": [
        {
         "name": "OfferId 30",
         "type": "scatter",
         "x": [
          0,
          1,
          2,
          3,
          4,
          5,
          6,
          7,
          8,
          9,
          10,
          11,
          12,
          13,
          14,
          15,
          16,
          17,
          18,
          19,
          20,
          21,
          22,
          23,
          24,
          25,
          26,
          27,
          28,
          29
         ],
         "y": [
          116046,
          57825,
          44499,
          28547,
          21503,
          15051,
          11451,
          8801,
          6651,
          5104,
          4174,
          3308,
          2648,
          2246,
          1766,
          1517,
          1293,
          1052,
          881,
          785,
          688,
          627,
          464,
          439,
          391,
          352,
          282,
          270,
          244,
          230
         ]
        }
       ],
       "layout": {
        "title": "Offer 30",
        "xaxis": {
         "title": "Максимальная глубина сессии"
        },
        "yaxis": {
         "title": "Кол-во сессий"
        }
       }
      },
      "text/html": [
       "<div id=\"8363fe67-302e-4151-9f92-49872a806666\" style=\"height: 525px; width: 100%;\" class=\"plotly-graph-div\"></div><script type=\"text/javascript\">require([\"plotly\"], function(Plotly) { window.PLOTLYENV=window.PLOTLYENV || {};window.PLOTLYENV.BASE_URL=\"https://plot.ly\";Plotly.newPlot(\"8363fe67-302e-4151-9f92-49872a806666\", [{\"x\": [0, 1, 2, 3, 4, 5, 6, 7, 8, 9, 10, 11, 12, 13, 14, 15, 16, 17, 18, 19, 20, 21, 22, 23, 24, 25, 26, 27, 28, 29], \"type\": \"scatter\", \"name\": \"OfferId 30\", \"y\": [116046, 57825, 44499, 28547, 21503, 15051, 11451, 8801, 6651, 5104, 4174, 3308, 2648, 2246, 1766, 1517, 1293, 1052, 881, 785, 688, 627, 464, 439, 391, 352, 282, 270, 244, 230]}], {\"xaxis\": {\"title\": \"\\u041c\\u0430\\u043a\\u0441\\u0438\\u043c\\u0430\\u043b\\u044c\\u043d\\u0430\\u044f \\u0433\\u043b\\u0443\\u0431\\u0438\\u043d\\u0430 \\u0441\\u0435\\u0441\\u0441\\u0438\\u0438\"}, \"title\": \"Offer 30\", \"yaxis\": {\"title\": \"\\u041a\\u043e\\u043b-\\u0432\\u043e \\u0441\\u0435\\u0441\\u0441\\u0438\\u0439\"}}, {\"showLink\": false, \"linkText\": \"Export to plot.ly\"})});</script>"
      ],
      "text/vnd.plotly.v1+html": [
       "<div id=\"8363fe67-302e-4151-9f92-49872a806666\" style=\"height: 525px; width: 100%;\" class=\"plotly-graph-div\"></div><script type=\"text/javascript\">require([\"plotly\"], function(Plotly) { window.PLOTLYENV=window.PLOTLYENV || {};window.PLOTLYENV.BASE_URL=\"https://plot.ly\";Plotly.newPlot(\"8363fe67-302e-4151-9f92-49872a806666\", [{\"x\": [0, 1, 2, 3, 4, 5, 6, 7, 8, 9, 10, 11, 12, 13, 14, 15, 16, 17, 18, 19, 20, 21, 22, 23, 24, 25, 26, 27, 28, 29], \"type\": \"scatter\", \"name\": \"OfferId 30\", \"y\": [116046, 57825, 44499, 28547, 21503, 15051, 11451, 8801, 6651, 5104, 4174, 3308, 2648, 2246, 1766, 1517, 1293, 1052, 881, 785, 688, 627, 464, 439, 391, 352, 282, 270, 244, 230]}], {\"xaxis\": {\"title\": \"\\u041c\\u0430\\u043a\\u0441\\u0438\\u043c\\u0430\\u043b\\u044c\\u043d\\u0430\\u044f \\u0433\\u043b\\u0443\\u0431\\u0438\\u043d\\u0430 \\u0441\\u0435\\u0441\\u0441\\u0438\\u0438\"}, \"title\": \"Offer 30\", \"yaxis\": {\"title\": \"\\u041a\\u043e\\u043b-\\u0432\\u043e \\u0441\\u0435\\u0441\\u0441\\u0438\\u0439\"}}, {\"showLink\": false, \"linkText\": \"Export to plot.ly\"})});</script>"
      ]
     },
     "metadata": {},
     "output_type": "display_data"
    },
    {
     "data": {
      "application/vnd.plotly.v1+json": {
       "data": [
        {
         "name": "OfferId 30",
         "type": "scatter",
         "x": [
          0,
          1,
          2,
          3,
          4,
          5,
          6,
          7,
          8,
          9,
          10,
          11,
          12,
          13,
          14,
          15,
          16,
          17,
          18,
          19,
          20,
          21,
          22,
          23,
          24,
          25,
          26,
          27,
          28,
          29,
          30,
          31,
          32,
          33,
          34,
          35,
          36,
          37,
          38,
          39,
          40,
          41,
          42,
          43,
          44,
          45,
          46,
          47,
          48,
          49,
          50,
          51,
          52,
          53,
          54,
          55,
          56,
          57,
          58,
          59,
          60,
          61,
          62,
          63,
          64,
          65,
          66,
          67,
          68,
          69,
          70,
          71,
          72,
          73,
          74,
          75,
          76,
          77,
          78,
          79,
          80,
          81,
          82,
          83,
          84,
          85,
          86,
          87,
          88,
          89,
          90,
          91,
          92,
          93,
          94,
          95,
          96,
          97,
          98,
          99,
          100,
          101,
          102,
          103,
          104,
          105,
          106,
          107,
          108,
          109,
          110,
          111,
          113,
          115,
          116,
          117,
          118,
          119,
          120,
          121,
          123,
          124,
          125,
          126,
          127,
          128,
          131,
          132,
          134,
          136,
          139,
          140,
          141,
          143,
          145,
          146,
          147,
          149,
          150,
          151,
          152,
          154,
          155,
          162,
          165,
          171,
          179,
          181,
          186,
          187,
          188,
          191,
          192,
          198,
          199
         ],
         "y": [
          0,
          0,
          0,
          0,
          2,
          1,
          3,
          9,
          11,
          22,
          27,
          36,
          32,
          39,
          40,
          42,
          47,
          38,
          53,
          52,
          54,
          51,
          25,
          40,
          31,
          38,
          33,
          40,
          27,
          24,
          39,
          28,
          28,
          25,
          21,
          30,
          19,
          17,
          20,
          13,
          11,
          19,
          9,
          15,
          15,
          12,
          14,
          20,
          7,
          10,
          9,
          7,
          9,
          7,
          5,
          4,
          9,
          4,
          9,
          5,
          7,
          7,
          8,
          4,
          2,
          6,
          5,
          0,
          6,
          3,
          1,
          4,
          4,
          3,
          3,
          0,
          4,
          0,
          3,
          7,
          2,
          3,
          2,
          6,
          1,
          1,
          1,
          2,
          1,
          0,
          0,
          3,
          1,
          1,
          1,
          0,
          2,
          1,
          2,
          1,
          0,
          1,
          1,
          0,
          1,
          0,
          2,
          3,
          0,
          0,
          0,
          0,
          4,
          0,
          0,
          0,
          3,
          2,
          1,
          0,
          1,
          1,
          0,
          1,
          0,
          1,
          0,
          2,
          1,
          0,
          2,
          1,
          0,
          1,
          0,
          1,
          2,
          1,
          0,
          1,
          0,
          1,
          1,
          1,
          0,
          0,
          1,
          1,
          1,
          0,
          0,
          1,
          0,
          0,
          0
         ]
        }
       ],
       "layout": {
        "title": "Offer 30",
        "xaxis": {
         "title": "Максимальная глубина сессии"
        },
        "yaxis": {
         "title": "Кол-во сессий с заказами"
        }
       }
      },
      "text/html": [
       "<div id=\"c62eae11-73e2-4393-a662-3184bf0c90f8\" style=\"height: 525px; width: 100%;\" class=\"plotly-graph-div\"></div><script type=\"text/javascript\">require([\"plotly\"], function(Plotly) { window.PLOTLYENV=window.PLOTLYENV || {};window.PLOTLYENV.BASE_URL=\"https://plot.ly\";Plotly.newPlot(\"c62eae11-73e2-4393-a662-3184bf0c90f8\", [{\"x\": [0, 1, 2, 3, 4, 5, 6, 7, 8, 9, 10, 11, 12, 13, 14, 15, 16, 17, 18, 19, 20, 21, 22, 23, 24, 25, 26, 27, 28, 29, 30, 31, 32, 33, 34, 35, 36, 37, 38, 39, 40, 41, 42, 43, 44, 45, 46, 47, 48, 49, 50, 51, 52, 53, 54, 55, 56, 57, 58, 59, 60, 61, 62, 63, 64, 65, 66, 67, 68, 69, 70, 71, 72, 73, 74, 75, 76, 77, 78, 79, 80, 81, 82, 83, 84, 85, 86, 87, 88, 89, 90, 91, 92, 93, 94, 95, 96, 97, 98, 99, 100, 101, 102, 103, 104, 105, 106, 107, 108, 109, 110, 111, 113, 115, 116, 117, 118, 119, 120, 121, 123, 124, 125, 126, 127, 128, 131, 132, 134, 136, 139, 140, 141, 143, 145, 146, 147, 149, 150, 151, 152, 154, 155, 162, 165, 171, 179, 181, 186, 187, 188, 191, 192, 198, 199], \"type\": \"scatter\", \"name\": \"OfferId 30\", \"y\": [0, 0, 0, 0, 2, 1, 3, 9, 11, 22, 27, 36, 32, 39, 40, 42, 47, 38, 53, 52, 54, 51, 25, 40, 31, 38, 33, 40, 27, 24, 39, 28, 28, 25, 21, 30, 19, 17, 20, 13, 11, 19, 9, 15, 15, 12, 14, 20, 7, 10, 9, 7, 9, 7, 5, 4, 9, 4, 9, 5, 7, 7, 8, 4, 2, 6, 5, 0, 6, 3, 1, 4, 4, 3, 3, 0, 4, 0, 3, 7, 2, 3, 2, 6, 1, 1, 1, 2, 1, 0, 0, 3, 1, 1, 1, 0, 2, 1, 2, 1, 0, 1, 1, 0, 1, 0, 2, 3, 0, 0, 0, 0, 4, 0, 0, 0, 3, 2, 1, 0, 1, 1, 0, 1, 0, 1, 0, 2, 1, 0, 2, 1, 0, 1, 0, 1, 2, 1, 0, 1, 0, 1, 1, 1, 0, 0, 1, 1, 1, 0, 0, 1, 0, 0, 0]}], {\"xaxis\": {\"title\": \"\\u041c\\u0430\\u043a\\u0441\\u0438\\u043c\\u0430\\u043b\\u044c\\u043d\\u0430\\u044f \\u0433\\u043b\\u0443\\u0431\\u0438\\u043d\\u0430 \\u0441\\u0435\\u0441\\u0441\\u0438\\u0438\"}, \"title\": \"Offer 30\", \"yaxis\": {\"title\": \"\\u041a\\u043e\\u043b-\\u0432\\u043e \\u0441\\u0435\\u0441\\u0441\\u0438\\u0439 \\u0441 \\u0437\\u0430\\u043a\\u0430\\u0437\\u0430\\u043c\\u0438\"}}, {\"showLink\": false, \"linkText\": \"Export to plot.ly\"})});</script>"
      ],
      "text/vnd.plotly.v1+html": [
       "<div id=\"c62eae11-73e2-4393-a662-3184bf0c90f8\" style=\"height: 525px; width: 100%;\" class=\"plotly-graph-div\"></div><script type=\"text/javascript\">require([\"plotly\"], function(Plotly) { window.PLOTLYENV=window.PLOTLYENV || {};window.PLOTLYENV.BASE_URL=\"https://plot.ly\";Plotly.newPlot(\"c62eae11-73e2-4393-a662-3184bf0c90f8\", [{\"x\": [0, 1, 2, 3, 4, 5, 6, 7, 8, 9, 10, 11, 12, 13, 14, 15, 16, 17, 18, 19, 20, 21, 22, 23, 24, 25, 26, 27, 28, 29, 30, 31, 32, 33, 34, 35, 36, 37, 38, 39, 40, 41, 42, 43, 44, 45, 46, 47, 48, 49, 50, 51, 52, 53, 54, 55, 56, 57, 58, 59, 60, 61, 62, 63, 64, 65, 66, 67, 68, 69, 70, 71, 72, 73, 74, 75, 76, 77, 78, 79, 80, 81, 82, 83, 84, 85, 86, 87, 88, 89, 90, 91, 92, 93, 94, 95, 96, 97, 98, 99, 100, 101, 102, 103, 104, 105, 106, 107, 108, 109, 110, 111, 113, 115, 116, 117, 118, 119, 120, 121, 123, 124, 125, 126, 127, 128, 131, 132, 134, 136, 139, 140, 141, 143, 145, 146, 147, 149, 150, 151, 152, 154, 155, 162, 165, 171, 179, 181, 186, 187, 188, 191, 192, 198, 199], \"type\": \"scatter\", \"name\": \"OfferId 30\", \"y\": [0, 0, 0, 0, 2, 1, 3, 9, 11, 22, 27, 36, 32, 39, 40, 42, 47, 38, 53, 52, 54, 51, 25, 40, 31, 38, 33, 40, 27, 24, 39, 28, 28, 25, 21, 30, 19, 17, 20, 13, 11, 19, 9, 15, 15, 12, 14, 20, 7, 10, 9, 7, 9, 7, 5, 4, 9, 4, 9, 5, 7, 7, 8, 4, 2, 6, 5, 0, 6, 3, 1, 4, 4, 3, 3, 0, 4, 0, 3, 7, 2, 3, 2, 6, 1, 1, 1, 2, 1, 0, 0, 3, 1, 1, 1, 0, 2, 1, 2, 1, 0, 1, 1, 0, 1, 0, 2, 3, 0, 0, 0, 0, 4, 0, 0, 0, 3, 2, 1, 0, 1, 1, 0, 1, 0, 1, 0, 2, 1, 0, 2, 1, 0, 1, 0, 1, 2, 1, 0, 1, 0, 1, 1, 1, 0, 0, 1, 1, 1, 0, 0, 1, 0, 0, 0]}], {\"xaxis\": {\"title\": \"\\u041c\\u0430\\u043a\\u0441\\u0438\\u043c\\u0430\\u043b\\u044c\\u043d\\u0430\\u044f \\u0433\\u043b\\u0443\\u0431\\u0438\\u043d\\u0430 \\u0441\\u0435\\u0441\\u0441\\u0438\\u0438\"}, \"title\": \"Offer 30\", \"yaxis\": {\"title\": \"\\u041a\\u043e\\u043b-\\u0432\\u043e \\u0441\\u0435\\u0441\\u0441\\u0438\\u0439 \\u0441 \\u0437\\u0430\\u043a\\u0430\\u0437\\u0430\\u043c\\u0438\"}}, {\"showLink\": false, \"linkText\": \"Export to plot.ly\"})});</script>"
      ]
     },
     "metadata": {},
     "output_type": "display_data"
    }
   ],
   "source": [
    "#offer_ids = [8, 17, 18, 30, 31, 32, 41, 42, 43]\n",
    "draw2(offer_id=30)"
   ]
  },
  {
   "cell_type": "markdown",
   "metadata": {},
   "source": [
    "### Зависимость кол-ва сессий от максимальной глубины сессии по всем офферам\n",
    "#### 1. Все сессии\n",
    "#### 2. Сессии с заказами"
   ]
  },
  {
   "cell_type": "code",
   "execution_count": 138,
   "metadata": {
    "collapsed": false
   },
   "outputs": [
    {
     "data": {
      "application/vnd.plotly.v1+json": {
       "data": [
        {
         "name": "All Offers",
         "type": "scatter",
         "x": [
          0,
          1,
          2,
          3,
          4,
          5,
          6,
          7,
          8,
          9,
          10,
          11,
          12,
          13,
          14,
          15,
          16,
          17,
          18,
          19,
          20,
          21,
          22,
          23,
          24,
          25,
          26,
          27,
          28,
          29
         ],
         "y": [
          1240756,
          370330,
          215877,
          142197,
          103196,
          77384,
          59662,
          46850,
          38070,
          30588,
          25405,
          21175,
          17911,
          15501,
          12769,
          11237,
          9607,
          8517,
          7362,
          6661,
          5843,
          5375,
          4482,
          4120,
          3824,
          3443,
          3087,
          2817,
          2555,
          2341
         ]
        }
       ],
       "layout": {
        "title": "По всем офферам",
        "xaxis": {
         "title": "Максимальная глубина сессии"
        },
        "yaxis": {
         "title": "Кол-во сессий"
        }
       }
      },
      "text/html": [
       "<div id=\"784d4e21-9e21-4ec7-ae77-c81a0548453b\" style=\"height: 525px; width: 100%;\" class=\"plotly-graph-div\"></div><script type=\"text/javascript\">require([\"plotly\"], function(Plotly) { window.PLOTLYENV=window.PLOTLYENV || {};window.PLOTLYENV.BASE_URL=\"https://plot.ly\";Plotly.newPlot(\"784d4e21-9e21-4ec7-ae77-c81a0548453b\", [{\"x\": [0, 1, 2, 3, 4, 5, 6, 7, 8, 9, 10, 11, 12, 13, 14, 15, 16, 17, 18, 19, 20, 21, 22, 23, 24, 25, 26, 27, 28, 29], \"type\": \"scatter\", \"name\": \"All Offers\", \"y\": [1240756, 370330, 215877, 142197, 103196, 77384, 59662, 46850, 38070, 30588, 25405, 21175, 17911, 15501, 12769, 11237, 9607, 8517, 7362, 6661, 5843, 5375, 4482, 4120, 3824, 3443, 3087, 2817, 2555, 2341]}], {\"xaxis\": {\"title\": \"\\u041c\\u0430\\u043a\\u0441\\u0438\\u043c\\u0430\\u043b\\u044c\\u043d\\u0430\\u044f \\u0433\\u043b\\u0443\\u0431\\u0438\\u043d\\u0430 \\u0441\\u0435\\u0441\\u0441\\u0438\\u0438\"}, \"title\": \"\\u041f\\u043e \\u0432\\u0441\\u0435\\u043c \\u043e\\u0444\\u0444\\u0435\\u0440\\u0430\\u043c\", \"yaxis\": {\"title\": \"\\u041a\\u043e\\u043b-\\u0432\\u043e \\u0441\\u0435\\u0441\\u0441\\u0438\\u0439\"}}, {\"showLink\": false, \"linkText\": \"Export to plot.ly\"})});</script>"
      ],
      "text/vnd.plotly.v1+html": [
       "<div id=\"784d4e21-9e21-4ec7-ae77-c81a0548453b\" style=\"height: 525px; width: 100%;\" class=\"plotly-graph-div\"></div><script type=\"text/javascript\">require([\"plotly\"], function(Plotly) { window.PLOTLYENV=window.PLOTLYENV || {};window.PLOTLYENV.BASE_URL=\"https://plot.ly\";Plotly.newPlot(\"784d4e21-9e21-4ec7-ae77-c81a0548453b\", [{\"x\": [0, 1, 2, 3, 4, 5, 6, 7, 8, 9, 10, 11, 12, 13, 14, 15, 16, 17, 18, 19, 20, 21, 22, 23, 24, 25, 26, 27, 28, 29], \"type\": \"scatter\", \"name\": \"All Offers\", \"y\": [1240756, 370330, 215877, 142197, 103196, 77384, 59662, 46850, 38070, 30588, 25405, 21175, 17911, 15501, 12769, 11237, 9607, 8517, 7362, 6661, 5843, 5375, 4482, 4120, 3824, 3443, 3087, 2817, 2555, 2341]}], {\"xaxis\": {\"title\": \"\\u041c\\u0430\\u043a\\u0441\\u0438\\u043c\\u0430\\u043b\\u044c\\u043d\\u0430\\u044f \\u0433\\u043b\\u0443\\u0431\\u0438\\u043d\\u0430 \\u0441\\u0435\\u0441\\u0441\\u0438\\u0438\"}, \"title\": \"\\u041f\\u043e \\u0432\\u0441\\u0435\\u043c \\u043e\\u0444\\u0444\\u0435\\u0440\\u0430\\u043c\", \"yaxis\": {\"title\": \"\\u041a\\u043e\\u043b-\\u0432\\u043e \\u0441\\u0435\\u0441\\u0441\\u0438\\u0439\"}}, {\"showLink\": false, \"linkText\": \"Export to plot.ly\"})});</script>"
      ]
     },
     "metadata": {},
     "output_type": "display_data"
    },
    {
     "data": {
      "application/vnd.plotly.v1+json": {
       "data": [
        {
         "name": "All Offers",
         "type": "scatter",
         "x": [
          0,
          1,
          2,
          3,
          4,
          5,
          6,
          7,
          8,
          9,
          10,
          11,
          12,
          13,
          14,
          15,
          16,
          17,
          18,
          19,
          20,
          21,
          22,
          23,
          24,
          25,
          26,
          27,
          28,
          29,
          30,
          31,
          32,
          33,
          34,
          35,
          36,
          37,
          38,
          39,
          40,
          41,
          42,
          43,
          44,
          45,
          46,
          47,
          48,
          49,
          50,
          51,
          52,
          53,
          54,
          55,
          56,
          57,
          58,
          59,
          60,
          61,
          62,
          63,
          64,
          65,
          66,
          67,
          68,
          69,
          70,
          71,
          72,
          73,
          74,
          75,
          76,
          77,
          78,
          79,
          80,
          81,
          82,
          83,
          84,
          85,
          86,
          87,
          88,
          89,
          90,
          91,
          92,
          93,
          94,
          95,
          96,
          97,
          98,
          99,
          100,
          101,
          102,
          103,
          104,
          105,
          106,
          107,
          108,
          109,
          110,
          111,
          112,
          113,
          114,
          115,
          116,
          117,
          118,
          119,
          120,
          121,
          122,
          123,
          124,
          125,
          126,
          127,
          128,
          129,
          130,
          131,
          132,
          133,
          134,
          135,
          136,
          137,
          138,
          139,
          140,
          141,
          142,
          143,
          144,
          145,
          146,
          147,
          148,
          149,
          150,
          151,
          152,
          153,
          154,
          155,
          156,
          157,
          158,
          159,
          160,
          161,
          162,
          163,
          164,
          165,
          166,
          167,
          168,
          169,
          170,
          171,
          172,
          173,
          174,
          175,
          176,
          177,
          178,
          179,
          180,
          181,
          182,
          183,
          184,
          185,
          186,
          187,
          188,
          189,
          190,
          191,
          192,
          193,
          194,
          195,
          196,
          197,
          198,
          199
         ],
         "y": [
          357,
          405,
          545,
          591,
          603,
          528,
          560,
          529,
          474,
          482,
          456,
          412,
          370,
          412,
          372,
          318,
          322,
          278,
          287,
          263,
          267,
          281,
          185,
          233,
          193,
          199,
          173,
          188,
          162,
          145,
          169,
          131,
          127,
          116,
          116,
          127,
          85,
          104,
          108,
          78,
          64,
          105,
          81,
          70,
          84,
          81,
          76,
          73,
          62,
          60,
          61,
          57,
          37,
          40,
          50,
          32,
          50,
          39,
          42,
          35,
          44,
          38,
          36,
          41,
          28,
          34,
          32,
          21,
          37,
          26,
          17,
          18,
          28,
          19,
          19,
          31,
          19,
          14,
          18,
          21,
          19,
          19,
          7,
          19,
          11,
          14,
          6,
          12,
          11,
          17,
          10,
          15,
          15,
          16,
          7,
          13,
          10,
          16,
          13,
          11,
          7,
          12,
          7,
          4,
          13,
          3,
          8,
          6,
          11,
          3,
          5,
          5,
          13,
          9,
          6,
          5,
          6,
          8,
          10,
          9,
          7,
          9,
          2,
          9,
          8,
          2,
          7,
          3,
          4,
          4,
          4,
          7,
          6,
          2,
          2,
          7,
          7,
          3,
          3,
          6,
          4,
          8,
          2,
          4,
          1,
          3,
          6,
          5,
          5,
          3,
          4,
          7,
          3,
          2,
          4,
          2,
          2,
          6,
          5,
          2,
          2,
          3,
          3,
          1,
          3,
          4,
          2,
          3,
          7,
          1,
          2,
          4,
          6,
          5,
          2,
          3,
          3,
          5,
          3,
          2,
          3,
          3,
          2,
          3,
          0,
          1,
          7,
          3,
          2,
          2,
          2,
          2,
          2,
          1,
          1,
          3,
          1,
          5,
          1,
          3
         ]
        }
       ],
       "layout": {
        "title": "По всем офферам",
        "xaxis": {
         "title": "Максимальная глубина сессии"
        },
        "yaxis": {
         "title": "Кол-во сессий с заказами"
        }
       }
      },
      "text/html": [
       "<div id=\"f8649597-123c-4c4c-ba55-3b3d2c15989d\" style=\"height: 525px; width: 100%;\" class=\"plotly-graph-div\"></div><script type=\"text/javascript\">require([\"plotly\"], function(Plotly) { window.PLOTLYENV=window.PLOTLYENV || {};window.PLOTLYENV.BASE_URL=\"https://plot.ly\";Plotly.newPlot(\"f8649597-123c-4c4c-ba55-3b3d2c15989d\", [{\"x\": [0, 1, 2, 3, 4, 5, 6, 7, 8, 9, 10, 11, 12, 13, 14, 15, 16, 17, 18, 19, 20, 21, 22, 23, 24, 25, 26, 27, 28, 29, 30, 31, 32, 33, 34, 35, 36, 37, 38, 39, 40, 41, 42, 43, 44, 45, 46, 47, 48, 49, 50, 51, 52, 53, 54, 55, 56, 57, 58, 59, 60, 61, 62, 63, 64, 65, 66, 67, 68, 69, 70, 71, 72, 73, 74, 75, 76, 77, 78, 79, 80, 81, 82, 83, 84, 85, 86, 87, 88, 89, 90, 91, 92, 93, 94, 95, 96, 97, 98, 99, 100, 101, 102, 103, 104, 105, 106, 107, 108, 109, 110, 111, 112, 113, 114, 115, 116, 117, 118, 119, 120, 121, 122, 123, 124, 125, 126, 127, 128, 129, 130, 131, 132, 133, 134, 135, 136, 137, 138, 139, 140, 141, 142, 143, 144, 145, 146, 147, 148, 149, 150, 151, 152, 153, 154, 155, 156, 157, 158, 159, 160, 161, 162, 163, 164, 165, 166, 167, 168, 169, 170, 171, 172, 173, 174, 175, 176, 177, 178, 179, 180, 181, 182, 183, 184, 185, 186, 187, 188, 189, 190, 191, 192, 193, 194, 195, 196, 197, 198, 199], \"type\": \"scatter\", \"name\": \"All Offers\", \"y\": [357, 405, 545, 591, 603, 528, 560, 529, 474, 482, 456, 412, 370, 412, 372, 318, 322, 278, 287, 263, 267, 281, 185, 233, 193, 199, 173, 188, 162, 145, 169, 131, 127, 116, 116, 127, 85, 104, 108, 78, 64, 105, 81, 70, 84, 81, 76, 73, 62, 60, 61, 57, 37, 40, 50, 32, 50, 39, 42, 35, 44, 38, 36, 41, 28, 34, 32, 21, 37, 26, 17, 18, 28, 19, 19, 31, 19, 14, 18, 21, 19, 19, 7, 19, 11, 14, 6, 12, 11, 17, 10, 15, 15, 16, 7, 13, 10, 16, 13, 11, 7, 12, 7, 4, 13, 3, 8, 6, 11, 3, 5, 5, 13, 9, 6, 5, 6, 8, 10, 9, 7, 9, 2, 9, 8, 2, 7, 3, 4, 4, 4, 7, 6, 2, 2, 7, 7, 3, 3, 6, 4, 8, 2, 4, 1, 3, 6, 5, 5, 3, 4, 7, 3, 2, 4, 2, 2, 6, 5, 2, 2, 3, 3, 1, 3, 4, 2, 3, 7, 1, 2, 4, 6, 5, 2, 3, 3, 5, 3, 2, 3, 3, 2, 3, 0, 1, 7, 3, 2, 2, 2, 2, 2, 1, 1, 3, 1, 5, 1, 3]}], {\"xaxis\": {\"title\": \"\\u041c\\u0430\\u043a\\u0441\\u0438\\u043c\\u0430\\u043b\\u044c\\u043d\\u0430\\u044f \\u0433\\u043b\\u0443\\u0431\\u0438\\u043d\\u0430 \\u0441\\u0435\\u0441\\u0441\\u0438\\u0438\"}, \"title\": \"\\u041f\\u043e \\u0432\\u0441\\u0435\\u043c \\u043e\\u0444\\u0444\\u0435\\u0440\\u0430\\u043c\", \"yaxis\": {\"title\": \"\\u041a\\u043e\\u043b-\\u0432\\u043e \\u0441\\u0435\\u0441\\u0441\\u0438\\u0439 \\u0441 \\u0437\\u0430\\u043a\\u0430\\u0437\\u0430\\u043c\\u0438\"}}, {\"showLink\": false, \"linkText\": \"Export to plot.ly\"})});</script>"
      ],
      "text/vnd.plotly.v1+html": [
       "<div id=\"f8649597-123c-4c4c-ba55-3b3d2c15989d\" style=\"height: 525px; width: 100%;\" class=\"plotly-graph-div\"></div><script type=\"text/javascript\">require([\"plotly\"], function(Plotly) { window.PLOTLYENV=window.PLOTLYENV || {};window.PLOTLYENV.BASE_URL=\"https://plot.ly\";Plotly.newPlot(\"f8649597-123c-4c4c-ba55-3b3d2c15989d\", [{\"x\": [0, 1, 2, 3, 4, 5, 6, 7, 8, 9, 10, 11, 12, 13, 14, 15, 16, 17, 18, 19, 20, 21, 22, 23, 24, 25, 26, 27, 28, 29, 30, 31, 32, 33, 34, 35, 36, 37, 38, 39, 40, 41, 42, 43, 44, 45, 46, 47, 48, 49, 50, 51, 52, 53, 54, 55, 56, 57, 58, 59, 60, 61, 62, 63, 64, 65, 66, 67, 68, 69, 70, 71, 72, 73, 74, 75, 76, 77, 78, 79, 80, 81, 82, 83, 84, 85, 86, 87, 88, 89, 90, 91, 92, 93, 94, 95, 96, 97, 98, 99, 100, 101, 102, 103, 104, 105, 106, 107, 108, 109, 110, 111, 112, 113, 114, 115, 116, 117, 118, 119, 120, 121, 122, 123, 124, 125, 126, 127, 128, 129, 130, 131, 132, 133, 134, 135, 136, 137, 138, 139, 140, 141, 142, 143, 144, 145, 146, 147, 148, 149, 150, 151, 152, 153, 154, 155, 156, 157, 158, 159, 160, 161, 162, 163, 164, 165, 166, 167, 168, 169, 170, 171, 172, 173, 174, 175, 176, 177, 178, 179, 180, 181, 182, 183, 184, 185, 186, 187, 188, 189, 190, 191, 192, 193, 194, 195, 196, 197, 198, 199], \"type\": \"scatter\", \"name\": \"All Offers\", \"y\": [357, 405, 545, 591, 603, 528, 560, 529, 474, 482, 456, 412, 370, 412, 372, 318, 322, 278, 287, 263, 267, 281, 185, 233, 193, 199, 173, 188, 162, 145, 169, 131, 127, 116, 116, 127, 85, 104, 108, 78, 64, 105, 81, 70, 84, 81, 76, 73, 62, 60, 61, 57, 37, 40, 50, 32, 50, 39, 42, 35, 44, 38, 36, 41, 28, 34, 32, 21, 37, 26, 17, 18, 28, 19, 19, 31, 19, 14, 18, 21, 19, 19, 7, 19, 11, 14, 6, 12, 11, 17, 10, 15, 15, 16, 7, 13, 10, 16, 13, 11, 7, 12, 7, 4, 13, 3, 8, 6, 11, 3, 5, 5, 13, 9, 6, 5, 6, 8, 10, 9, 7, 9, 2, 9, 8, 2, 7, 3, 4, 4, 4, 7, 6, 2, 2, 7, 7, 3, 3, 6, 4, 8, 2, 4, 1, 3, 6, 5, 5, 3, 4, 7, 3, 2, 4, 2, 2, 6, 5, 2, 2, 3, 3, 1, 3, 4, 2, 3, 7, 1, 2, 4, 6, 5, 2, 3, 3, 5, 3, 2, 3, 3, 2, 3, 0, 1, 7, 3, 2, 2, 2, 2, 2, 1, 1, 3, 1, 5, 1, 3]}], {\"xaxis\": {\"title\": \"\\u041c\\u0430\\u043a\\u0441\\u0438\\u043c\\u0430\\u043b\\u044c\\u043d\\u0430\\u044f \\u0433\\u043b\\u0443\\u0431\\u0438\\u043d\\u0430 \\u0441\\u0435\\u0441\\u0441\\u0438\\u0438\"}, \"title\": \"\\u041f\\u043e \\u0432\\u0441\\u0435\\u043c \\u043e\\u0444\\u0444\\u0435\\u0440\\u0430\\u043c\", \"yaxis\": {\"title\": \"\\u041a\\u043e\\u043b-\\u0432\\u043e \\u0441\\u0435\\u0441\\u0441\\u0438\\u0439 \\u0441 \\u0437\\u0430\\u043a\\u0430\\u0437\\u0430\\u043c\\u0438\"}}, {\"showLink\": false, \"linkText\": \"Export to plot.ly\"})});</script>"
      ]
     },
     "metadata": {},
     "output_type": "display_data"
    }
   ],
   "source": [
    "draw2All()"
   ]
  },
  {
   "cell_type": "code",
   "execution_count": 158,
   "metadata": {
    "collapsed": true
   },
   "outputs": [],
   "source": [
    "def getQuery3():\n",
    "    return '''\n",
    "        select\n",
    "        offer_id,\n",
    "        source_count,\n",
    "        count(*) as sessions_count,\n",
    "        countIf(orders_count > 0) as sessions_orders_count,\n",
    "        countIf(typ_count > 0) as sessions_typ_count,\n",
    "        sessions_typ_count/sessions_count as cr\n",
    "        from (''' + getSubQuery() + ''') visits \n",
    "        group by offer_id, source_count\n",
    "        order by offer_id, source_count\n",
    "        '''\n",
    "\n",
    "def getQuery3All():\n",
    "    return '''\n",
    "        select\n",
    "        source_count,\n",
    "        count(*) as sessions_count,\n",
    "        countIf(orders_count > 0) as sessions_orders_count,\n",
    "        countIf(typ_count > 0) as sessions_typ_count,\n",
    "        sessions_typ_count/sessions_count as cr\n",
    "        from (''' + getSubQuery() + ''') visits \n",
    "        group by source_count\n",
    "        order by source_count\n",
    "        '''\n"
   ]
  },
  {
   "cell_type": "code",
   "execution_count": 159,
   "metadata": {
    "collapsed": false
   },
   "outputs": [],
   "source": [
    "df3 = readClickHouse(getQuery3(), 'query3.csv')\n",
    "df3All = readClickHouse(getQuery3All(), 'query3All.csv')"
   ]
  },
  {
   "cell_type": "code",
   "execution_count": 160,
   "metadata": {
    "collapsed": false
   },
   "outputs": [],
   "source": [
    "def draw3(offer_id = 30):\n",
    "    #нормировка\n",
    "    layout3_1 = {'title': 'Нормированный график для оффера ' + str(offer_id), 'xaxis': {'title': 'Кол-во источников'}, 'yaxis': {'title': 'Кол-во сессий'}}\n",
    "    df3_1 = df3[df3.offer_id == offer_id][['source_count'] + ['sessions_count'] + ['sessions_typ_count']]\n",
    "    df3_1['sessions_count'] /= df3_1.sessions_count.values.max()\n",
    "    df3_1['sessions_typ_count'] /= df3_1.sessions_typ_count.values.max()\n",
    "    trace3_1_1 = go.Scatter(x = df3_1['source_count'], y = df3_1['sessions_count'], name = 'Всего')\n",
    "    trace3_1_2 = go.Scatter(x = df3_1['source_count'], y = df3_1['sessions_typ_count'], name = 'С закзами')\n",
    "    iplot(go.Figure(data=[trace3_1_1, trace3_1_2], layout=layout3_1), show_link = False)\n",
    "\n",
    "    layout3_2_1 = {'title': 'Оффер ' + str(offer_id), 'xaxis': {'title': 'Кол-во источников'}, 'yaxis': {'title': 'Кол-во сессий'}}\n",
    "    layout3_2_2 = {'title': 'Оффер ' + str(offer_id), 'xaxis': {'title': 'Кол-во источников'}, 'yaxis': {'title': 'Кол-во сессий с заказами'}}\n",
    "    df3_2 = df3[df3.offer_id == offer_id][['source_count'] + ['sessions_count'] + ['sessions_typ_count']]\n",
    "    trace3_2_1 = go.Scatter(x = df3_2['source_count'], y = df3_2['sessions_count'], name = 'OfferId ' + str(offer_id))\n",
    "    trace3_2_2 = go.Scatter(x = df3_2['source_count'], y = df3_2['sessions_typ_count'], name = 'OfferId ' + str(offer_id))\n",
    "    iplot(go.Figure(data=[trace3_2_1], layout=layout3_2_1), show_link = False)\n",
    "    iplot(go.Figure(data=[trace3_2_2], layout=layout3_2_2), show_link = False)\n",
    "\n",
    "def draw3All():\n",
    "    #нормировка\n",
    "    layout3_1 = {'title': 'Нормированный график для всех офферов', 'xaxis': {'title': 'Кол-во источников'}, 'yaxis': {'title': 'Кол-во сессий'}}\n",
    "    df3_1 = df3All[df3All.source_count < 10][['source_count'] + ['sessions_count'] + ['sessions_typ_count']]\n",
    "    df3_1['sessions_count'] /= df3_1.sessions_count.values.max()\n",
    "    df3_1['sessions_typ_count'] /= df3_1.sessions_typ_count.values.max()\n",
    "    trace3_1_1 = go.Scatter(x = df3_1['source_count'], y = df3_1['sessions_count'], name = 'Всего')\n",
    "    trace3_1_2 = go.Scatter(x = df3_1['source_count'], y = df3_1['sessions_typ_count'], name = 'С заказами')\n",
    "    iplot(go.Figure(data=[trace3_1_1, trace3_1_2], layout=layout3_1), show_link = False)\n",
    "\n",
    "    layout3_2_1 = {'title': 'Для всех офферов', 'xaxis': {'title': 'Кол-во источников'}, 'yaxis': {'title': 'Кол-во сессий'}}\n",
    "    layout3_2_2 = {'title': 'Для всех офферов', 'xaxis': {'title': 'Кол-во источников'}, 'yaxis': {'title': 'Кол-во сессий с заказами'}}\n",
    "    df3_2 = df3All[df3All.source_count < 10][['source_count'] + ['sessions_count'] + ['sessions_typ_count']]\n",
    "    trace3_2_1 = go.Scatter(x = df3_2['source_count'], y = df3_2['sessions_count'], name = 'All Offers')\n",
    "    trace3_2_2 = go.Scatter(x = df3_2['source_count'], y = df3_2['sessions_typ_count'], name = 'All Offers')\n",
    "    iplot(go.Figure(data=[trace3_2_1], layout=layout3_2_1), show_link = False)\n",
    "    iplot(go.Figure(data=[trace3_2_2], layout=layout3_2_2), show_link = False)\n",
    "    \n",
    "def draw3Cr(offer_id = 30, head = 10):\n",
    "    layout3_2 = {'title': 'Для оффера ' + str(offer_id), 'xaxis': {'title': 'Кол-во источников'}, 'yaxis': {'title': 'Конверсия'}}\n",
    "    df3_2 = df3[df3.offer_id == offer_id][['source_count'] + ['cr']]\n",
    "    df3_2 = df3_2.head(head)\n",
    "    trace3_3_1 = go.Scatter(x = df3_2['source_count'], y = df3_2['cr'], name = 'All Offers')\n",
    "    iplot(go.Figure(data=[trace3_3_1], layout=layout3_2), show_link = False)\n",
    "    \n",
    "def draw3AllCr(head = 10):\n",
    "    layout3_2 = {'title': 'Для всех офферов', 'xaxis': {'title': 'Кол-во источников'}, 'yaxis': {'title': 'Конверсия'}}\n",
    "    df3_2 = df3All.head(head)\n",
    "    trace3_3_1 = go.Scatter(x = df3_2['source_count'], y = df3_2['cr'], name = 'All Offers')\n",
    "    iplot(go.Figure(data=[trace3_3_1], layout=layout3_2), show_link = False)\n"
   ]
  },
  {
   "cell_type": "markdown",
   "metadata": {},
   "source": [
    "### Зависимость кол-ва сессий от кол-ва различных источников в сессию для заданного оффера\n",
    "#### 1. Нормированный график \n",
    "#### 2. Все сессии\n",
    "#### 3. Сессии с заказами"
   ]
  },
  {
   "cell_type": "code",
   "execution_count": 161,
   "metadata": {
    "collapsed": false
   },
   "outputs": [
    {
     "data": {
      "application/vnd.plotly.v1+json": {
       "data": [
        {
         "name": "Всего",
         "type": "scatter",
         "x": [
          0,
          1,
          2,
          3,
          4
         ],
         "y": [
          1,
          0.5789350309103026,
          0.0244524624824765,
          0.0014432468457702295,
          7.81375680831016e-05
         ]
        },
        {
         "name": "С закзами",
         "type": "scatter",
         "x": [
          0,
          1,
          2,
          3,
          4
         ],
         "y": [
          1,
          0.7937853107344632,
          0.2189265536723164,
          0.03248587570621469,
          0.00423728813559322
         ]
        }
       ],
       "layout": {
        "title": "Нормированный график для оффера 30",
        "xaxis": {
         "title": "Кол-во источников"
        },
        "yaxis": {
         "title": "Кол-во сессий"
        }
       }
      },
      "text/html": [
       "<div id=\"8ed9f5f9-e8cb-4c05-8450-f72c4da56da2\" style=\"height: 525px; width: 100%;\" class=\"plotly-graph-div\"></div><script type=\"text/javascript\">require([\"plotly\"], function(Plotly) { window.PLOTLYENV=window.PLOTLYENV || {};window.PLOTLYENV.BASE_URL=\"https://plot.ly\";Plotly.newPlot(\"8ed9f5f9-e8cb-4c05-8450-f72c4da56da2\", [{\"x\": [0, 1, 2, 3, 4], \"type\": \"scatter\", \"name\": \"\\u0412\\u0441\\u0435\\u0433\\u043e\", \"y\": [1.0, 0.5789350309103026, 0.0244524624824765, 0.0014432468457702295, 7.81375680831016e-05]}, {\"x\": [0, 1, 2, 3, 4], \"type\": \"scatter\", \"name\": \"\\u0421 \\u0437\\u0430\\u043a\\u0437\\u0430\\u043c\\u0438\", \"y\": [1.0, 0.7937853107344632, 0.2189265536723164, 0.03248587570621469, 0.00423728813559322]}], {\"xaxis\": {\"title\": \"\\u041a\\u043e\\u043b-\\u0432\\u043e \\u0438\\u0441\\u0442\\u043e\\u0447\\u043d\\u0438\\u043a\\u043e\\u0432\"}, \"title\": \"\\u041d\\u043e\\u0440\\u043c\\u0438\\u0440\\u043e\\u0432\\u0430\\u043d\\u043d\\u044b\\u0439 \\u0433\\u0440\\u0430\\u0444\\u0438\\u043a \\u0434\\u043b\\u044f \\u043e\\u0444\\u0444\\u0435\\u0440\\u0430 30\", \"yaxis\": {\"title\": \"\\u041a\\u043e\\u043b-\\u0432\\u043e \\u0441\\u0435\\u0441\\u0441\\u0438\\u0439\"}}, {\"showLink\": false, \"linkText\": \"Export to plot.ly\"})});</script>"
      ],
      "text/vnd.plotly.v1+html": [
       "<div id=\"8ed9f5f9-e8cb-4c05-8450-f72c4da56da2\" style=\"height: 525px; width: 100%;\" class=\"plotly-graph-div\"></div><script type=\"text/javascript\">require([\"plotly\"], function(Plotly) { window.PLOTLYENV=window.PLOTLYENV || {};window.PLOTLYENV.BASE_URL=\"https://plot.ly\";Plotly.newPlot(\"8ed9f5f9-e8cb-4c05-8450-f72c4da56da2\", [{\"x\": [0, 1, 2, 3, 4], \"type\": \"scatter\", \"name\": \"\\u0412\\u0441\\u0435\\u0433\\u043e\", \"y\": [1.0, 0.5789350309103026, 0.0244524624824765, 0.0014432468457702295, 7.81375680831016e-05]}, {\"x\": [0, 1, 2, 3, 4], \"type\": \"scatter\", \"name\": \"\\u0421 \\u0437\\u0430\\u043a\\u0437\\u0430\\u043c\\u0438\", \"y\": [1.0, 0.7937853107344632, 0.2189265536723164, 0.03248587570621469, 0.00423728813559322]}], {\"xaxis\": {\"title\": \"\\u041a\\u043e\\u043b-\\u0432\\u043e \\u0438\\u0441\\u0442\\u043e\\u0447\\u043d\\u0438\\u043a\\u043e\\u0432\"}, \"title\": \"\\u041d\\u043e\\u0440\\u043c\\u0438\\u0440\\u043e\\u0432\\u0430\\u043d\\u043d\\u044b\\u0439 \\u0433\\u0440\\u0430\\u0444\\u0438\\u043a \\u0434\\u043b\\u044f \\u043e\\u0444\\u0444\\u0435\\u0440\\u0430 30\", \"yaxis\": {\"title\": \"\\u041a\\u043e\\u043b-\\u0432\\u043e \\u0441\\u0435\\u0441\\u0441\\u0438\\u0439\"}}, {\"showLink\": false, \"linkText\": \"Export to plot.ly\"})});</script>"
      ]
     },
     "metadata": {},
     "output_type": "display_data"
    },
    {
     "data": {
      "application/vnd.plotly.v1+json": {
       "data": [
        {
         "name": "OfferId 30",
         "type": "scatter",
         "x": [
          0,
          1,
          2,
          3,
          4
         ],
         "y": [
          217565,
          125956,
          5320,
          314,
          17
         ]
        }
       ],
       "layout": {
        "title": "Оффер 30",
        "xaxis": {
         "title": "Кол-во источников"
        },
        "yaxis": {
         "title": "Кол-во сессий"
        }
       }
      },
      "text/html": [
       "<div id=\"a754fddb-01d9-4889-a52c-b7a482f5a185\" style=\"height: 525px; width: 100%;\" class=\"plotly-graph-div\"></div><script type=\"text/javascript\">require([\"plotly\"], function(Plotly) { window.PLOTLYENV=window.PLOTLYENV || {};window.PLOTLYENV.BASE_URL=\"https://plot.ly\";Plotly.newPlot(\"a754fddb-01d9-4889-a52c-b7a482f5a185\", [{\"x\": [0, 1, 2, 3, 4], \"type\": \"scatter\", \"name\": \"OfferId 30\", \"y\": [217565, 125956, 5320, 314, 17]}], {\"xaxis\": {\"title\": \"\\u041a\\u043e\\u043b-\\u0432\\u043e \\u0438\\u0441\\u0442\\u043e\\u0447\\u043d\\u0438\\u043a\\u043e\\u0432\"}, \"title\": \"\\u041e\\u0444\\u0444\\u0435\\u0440 30\", \"yaxis\": {\"title\": \"\\u041a\\u043e\\u043b-\\u0432\\u043e \\u0441\\u0435\\u0441\\u0441\\u0438\\u0439\"}}, {\"showLink\": false, \"linkText\": \"Export to plot.ly\"})});</script>"
      ],
      "text/vnd.plotly.v1+html": [
       "<div id=\"a754fddb-01d9-4889-a52c-b7a482f5a185\" style=\"height: 525px; width: 100%;\" class=\"plotly-graph-div\"></div><script type=\"text/javascript\">require([\"plotly\"], function(Plotly) { window.PLOTLYENV=window.PLOTLYENV || {};window.PLOTLYENV.BASE_URL=\"https://plot.ly\";Plotly.newPlot(\"a754fddb-01d9-4889-a52c-b7a482f5a185\", [{\"x\": [0, 1, 2, 3, 4], \"type\": \"scatter\", \"name\": \"OfferId 30\", \"y\": [217565, 125956, 5320, 314, 17]}], {\"xaxis\": {\"title\": \"\\u041a\\u043e\\u043b-\\u0432\\u043e \\u0438\\u0441\\u0442\\u043e\\u0447\\u043d\\u0438\\u043a\\u043e\\u0432\"}, \"title\": \"\\u041e\\u0444\\u0444\\u0435\\u0440 30\", \"yaxis\": {\"title\": \"\\u041a\\u043e\\u043b-\\u0432\\u043e \\u0441\\u0435\\u0441\\u0441\\u0438\\u0439\"}}, {\"showLink\": false, \"linkText\": \"Export to plot.ly\"})});</script>"
      ]
     },
     "metadata": {},
     "output_type": "display_data"
    },
    {
     "data": {
      "application/vnd.plotly.v1+json": {
       "data": [
        {
         "name": "OfferId 30",
         "type": "scatter",
         "x": [
          0,
          1,
          2,
          3,
          4
         ],
         "y": [
          708,
          562,
          155,
          23,
          3
         ]
        }
       ],
       "layout": {
        "title": "Оффер 30",
        "xaxis": {
         "title": "Кол-во источников"
        },
        "yaxis": {
         "title": "Кол-во сессий с заказами"
        }
       }
      },
      "text/html": [
       "<div id=\"69e666af-d2ee-44c4-b33e-572f1acbceec\" style=\"height: 525px; width: 100%;\" class=\"plotly-graph-div\"></div><script type=\"text/javascript\">require([\"plotly\"], function(Plotly) { window.PLOTLYENV=window.PLOTLYENV || {};window.PLOTLYENV.BASE_URL=\"https://plot.ly\";Plotly.newPlot(\"69e666af-d2ee-44c4-b33e-572f1acbceec\", [{\"x\": [0, 1, 2, 3, 4], \"type\": \"scatter\", \"name\": \"OfferId 30\", \"y\": [708, 562, 155, 23, 3]}], {\"xaxis\": {\"title\": \"\\u041a\\u043e\\u043b-\\u0432\\u043e \\u0438\\u0441\\u0442\\u043e\\u0447\\u043d\\u0438\\u043a\\u043e\\u0432\"}, \"title\": \"\\u041e\\u0444\\u0444\\u0435\\u0440 30\", \"yaxis\": {\"title\": \"\\u041a\\u043e\\u043b-\\u0432\\u043e \\u0441\\u0435\\u0441\\u0441\\u0438\\u0439 \\u0441 \\u0437\\u0430\\u043a\\u0430\\u0437\\u0430\\u043c\\u0438\"}}, {\"showLink\": false, \"linkText\": \"Export to plot.ly\"})});</script>"
      ],
      "text/vnd.plotly.v1+html": [
       "<div id=\"69e666af-d2ee-44c4-b33e-572f1acbceec\" style=\"height: 525px; width: 100%;\" class=\"plotly-graph-div\"></div><script type=\"text/javascript\">require([\"plotly\"], function(Plotly) { window.PLOTLYENV=window.PLOTLYENV || {};window.PLOTLYENV.BASE_URL=\"https://plot.ly\";Plotly.newPlot(\"69e666af-d2ee-44c4-b33e-572f1acbceec\", [{\"x\": [0, 1, 2, 3, 4], \"type\": \"scatter\", \"name\": \"OfferId 30\", \"y\": [708, 562, 155, 23, 3]}], {\"xaxis\": {\"title\": \"\\u041a\\u043e\\u043b-\\u0432\\u043e \\u0438\\u0441\\u0442\\u043e\\u0447\\u043d\\u0438\\u043a\\u043e\\u0432\"}, \"title\": \"\\u041e\\u0444\\u0444\\u0435\\u0440 30\", \"yaxis\": {\"title\": \"\\u041a\\u043e\\u043b-\\u0432\\u043e \\u0441\\u0435\\u0441\\u0441\\u0438\\u0439 \\u0441 \\u0437\\u0430\\u043a\\u0430\\u0437\\u0430\\u043c\\u0438\"}}, {\"showLink\": false, \"linkText\": \"Export to plot.ly\"})});</script>"
      ]
     },
     "metadata": {},
     "output_type": "display_data"
    }
   ],
   "source": [
    "#offer_ids = [8, 17, 18, 30, 31, 32, 41, 42, 43]\n",
    "draw3(offer_id=30)"
   ]
  },
  {
   "cell_type": "markdown",
   "metadata": {},
   "source": [
    "### Зависимость кол-ва сессий от кол-ва различных источников в сессию по всем офферам\n",
    "#### 1. Нормированный график \n",
    "#### 2. Все сессии\n",
    "#### 3. Сессии с заказами"
   ]
  },
  {
   "cell_type": "code",
   "execution_count": 72,
   "metadata": {
    "collapsed": false
   },
   "outputs": [
    {
     "data": {
      "application/vnd.plotly.v1+json": {
       "data": [
        {
         "name": "Всего",
         "type": "scatter",
         "x": [
          0,
          1,
          2,
          3,
          4,
          5,
          6,
          7,
          8,
          9
         ],
         "y": [
          1,
          0.4544422990226517,
          0.02734477117233597,
          0.003619619551502882,
          0.0006561021182968565,
          0.0001599142587378682,
          4.3664531641190964e-05,
          1.474386782689565e-05,
          2.8353591974799328e-06,
          1.7012155184879597e-06
         ]
        },
        {
         "name": "С заказами",
         "type": "scatter",
         "x": [
          0,
          1,
          2,
          3,
          4,
          5,
          6,
          7,
          8,
          9
         ],
         "y": [
          1,
          0.7130696044066099,
          0.19754631947921883,
          0.05645968953430145,
          0.01690035052578868,
          0.0058838257386079115,
          0.0012518778167250877,
          0.0006259389083625439,
          0.0002503755633450175,
          0
         ]
        }
       ],
       "layout": {
        "title": "Нормированный график для всех офферов",
        "xaxis": {
         "title": "Кол-во источников"
        },
        "yaxis": {
         "title": "Кол-во сессий"
        }
       }
      },
      "text/html": [
       "<div id=\"dde6aaee-6ccc-4c66-846e-d4025767b9ea\" style=\"height: 525px; width: 100%;\" class=\"plotly-graph-div\"></div><script type=\"text/javascript\">require([\"plotly\"], function(Plotly) { window.PLOTLYENV=window.PLOTLYENV || {};window.PLOTLYENV.BASE_URL=\"https://plot.ly\";Plotly.newPlot(\"dde6aaee-6ccc-4c66-846e-d4025767b9ea\", [{\"x\": [0, 1, 2, 3, 4, 5, 6, 7, 8, 9], \"type\": \"scatter\", \"name\": \"\\u0412\\u0441\\u0435\\u0433\\u043e\", \"y\": [1.0, 0.4544422990226517, 0.02734477117233597, 0.003619619551502882, 0.0006561021182968565, 0.0001599142587378682, 4.3664531641190964e-05, 1.474386782689565e-05, 2.8353591974799328e-06, 1.7012155184879597e-06]}, {\"x\": [0, 1, 2, 3, 4, 5, 6, 7, 8, 9], \"type\": \"scatter\", \"name\": \"\\u0421 \\u0437\\u0430\\u043a\\u0430\\u0437\\u0430\\u043c\\u0438\", \"y\": [1.0, 0.7130696044066099, 0.19754631947921883, 0.05645968953430145, 0.01690035052578868, 0.0058838257386079115, 0.0012518778167250877, 0.0006259389083625439, 0.0002503755633450175, 0.0]}], {\"xaxis\": {\"title\": \"\\u041a\\u043e\\u043b-\\u0432\\u043e \\u0438\\u0441\\u0442\\u043e\\u0447\\u043d\\u0438\\u043a\\u043e\\u0432\"}, \"title\": \"\\u041d\\u043e\\u0440\\u043c\\u0438\\u0440\\u043e\\u0432\\u0430\\u043d\\u043d\\u044b\\u0439 \\u0433\\u0440\\u0430\\u0444\\u0438\\u043a \\u0434\\u043b\\u044f \\u0432\\u0441\\u0435\\u0445 \\u043e\\u0444\\u0444\\u0435\\u0440\\u043e\\u0432\", \"yaxis\": {\"title\": \"\\u041a\\u043e\\u043b-\\u0432\\u043e \\u0441\\u0435\\u0441\\u0441\\u0438\\u0439\"}}, {\"showLink\": false, \"linkText\": \"Export to plot.ly\"})});</script>"
      ],
      "text/vnd.plotly.v1+html": [
       "<div id=\"dde6aaee-6ccc-4c66-846e-d4025767b9ea\" style=\"height: 525px; width: 100%;\" class=\"plotly-graph-div\"></div><script type=\"text/javascript\">require([\"plotly\"], function(Plotly) { window.PLOTLYENV=window.PLOTLYENV || {};window.PLOTLYENV.BASE_URL=\"https://plot.ly\";Plotly.newPlot(\"dde6aaee-6ccc-4c66-846e-d4025767b9ea\", [{\"x\": [0, 1, 2, 3, 4, 5, 6, 7, 8, 9], \"type\": \"scatter\", \"name\": \"\\u0412\\u0441\\u0435\\u0433\\u043e\", \"y\": [1.0, 0.4544422990226517, 0.02734477117233597, 0.003619619551502882, 0.0006561021182968565, 0.0001599142587378682, 4.3664531641190964e-05, 1.474386782689565e-05, 2.8353591974799328e-06, 1.7012155184879597e-06]}, {\"x\": [0, 1, 2, 3, 4, 5, 6, 7, 8, 9], \"type\": \"scatter\", \"name\": \"\\u0421 \\u0437\\u0430\\u043a\\u0430\\u0437\\u0430\\u043c\\u0438\", \"y\": [1.0, 0.7130696044066099, 0.19754631947921883, 0.05645968953430145, 0.01690035052578868, 0.0058838257386079115, 0.0012518778167250877, 0.0006259389083625439, 0.0002503755633450175, 0.0]}], {\"xaxis\": {\"title\": \"\\u041a\\u043e\\u043b-\\u0432\\u043e \\u0438\\u0441\\u0442\\u043e\\u0447\\u043d\\u0438\\u043a\\u043e\\u0432\"}, \"title\": \"\\u041d\\u043e\\u0440\\u043c\\u0438\\u0440\\u043e\\u0432\\u0430\\u043d\\u043d\\u044b\\u0439 \\u0433\\u0440\\u0430\\u0444\\u0438\\u043a \\u0434\\u043b\\u044f \\u0432\\u0441\\u0435\\u0445 \\u043e\\u0444\\u0444\\u0435\\u0440\\u043e\\u0432\", \"yaxis\": {\"title\": \"\\u041a\\u043e\\u043b-\\u0432\\u043e \\u0441\\u0435\\u0441\\u0441\\u0438\\u0439\"}}, {\"showLink\": false, \"linkText\": \"Export to plot.ly\"})});</script>"
      ]
     },
     "metadata": {},
     "output_type": "display_data"
    },
    {
     "data": {
      "application/vnd.plotly.v1+json": {
       "data": [
        {
         "name": "All Offers",
         "type": "scatter",
         "x": [
          0,
          1,
          2,
          3,
          4,
          5,
          6,
          7,
          8,
          9
         ],
         "y": [
          1763445,
          801384,
          48221,
          6383,
          1157,
          282,
          77,
          26,
          5,
          3
         ]
        }
       ],
       "layout": {
        "title": "Для всех офферов",
        "xaxis": {
         "title": "Кол-во источников"
        },
        "yaxis": {
         "title": "Кол-во сессий"
        }
       }
      },
      "text/html": [
       "<div id=\"3d51f4ad-ecc5-4ebf-a8ec-459f181c1077\" style=\"height: 525px; width: 100%;\" class=\"plotly-graph-div\"></div><script type=\"text/javascript\">require([\"plotly\"], function(Plotly) { window.PLOTLYENV=window.PLOTLYENV || {};window.PLOTLYENV.BASE_URL=\"https://plot.ly\";Plotly.newPlot(\"3d51f4ad-ecc5-4ebf-a8ec-459f181c1077\", [{\"x\": [0, 1, 2, 3, 4, 5, 6, 7, 8, 9], \"type\": \"scatter\", \"name\": \"All Offers\", \"y\": [1763445, 801384, 48221, 6383, 1157, 282, 77, 26, 5, 3]}], {\"xaxis\": {\"title\": \"\\u041a\\u043e\\u043b-\\u0432\\u043e \\u0438\\u0441\\u0442\\u043e\\u0447\\u043d\\u0438\\u043a\\u043e\\u0432\"}, \"title\": \"\\u0414\\u043b\\u044f \\u0432\\u0441\\u0435\\u0445 \\u043e\\u0444\\u0444\\u0435\\u0440\\u043e\\u0432\", \"yaxis\": {\"title\": \"\\u041a\\u043e\\u043b-\\u0432\\u043e \\u0441\\u0435\\u0441\\u0441\\u0438\\u0439\"}}, {\"showLink\": false, \"linkText\": \"Export to plot.ly\"})});</script>"
      ],
      "text/vnd.plotly.v1+html": [
       "<div id=\"3d51f4ad-ecc5-4ebf-a8ec-459f181c1077\" style=\"height: 525px; width: 100%;\" class=\"plotly-graph-div\"></div><script type=\"text/javascript\">require([\"plotly\"], function(Plotly) { window.PLOTLYENV=window.PLOTLYENV || {};window.PLOTLYENV.BASE_URL=\"https://plot.ly\";Plotly.newPlot(\"3d51f4ad-ecc5-4ebf-a8ec-459f181c1077\", [{\"x\": [0, 1, 2, 3, 4, 5, 6, 7, 8, 9], \"type\": \"scatter\", \"name\": \"All Offers\", \"y\": [1763445, 801384, 48221, 6383, 1157, 282, 77, 26, 5, 3]}], {\"xaxis\": {\"title\": \"\\u041a\\u043e\\u043b-\\u0432\\u043e \\u0438\\u0441\\u0442\\u043e\\u0447\\u043d\\u0438\\u043a\\u043e\\u0432\"}, \"title\": \"\\u0414\\u043b\\u044f \\u0432\\u0441\\u0435\\u0445 \\u043e\\u0444\\u0444\\u0435\\u0440\\u043e\\u0432\", \"yaxis\": {\"title\": \"\\u041a\\u043e\\u043b-\\u0432\\u043e \\u0441\\u0435\\u0441\\u0441\\u0438\\u0439\"}}, {\"showLink\": false, \"linkText\": \"Export to plot.ly\"})});</script>"
      ]
     },
     "metadata": {},
     "output_type": "display_data"
    },
    {
     "data": {
      "application/vnd.plotly.v1+json": {
       "data": [
        {
         "name": "All Offers",
         "type": "scatter",
         "x": [
          0,
          1,
          2,
          3,
          4,
          5,
          6,
          7,
          8,
          9
         ],
         "y": [
          7988,
          5696,
          1578,
          451,
          135,
          47,
          10,
          5,
          2,
          0
         ]
        }
       ],
       "layout": {
        "title": "Для всех офферов",
        "xaxis": {
         "title": "Кол-во источников"
        },
        "yaxis": {
         "title": "Кол-во сессий с заказами"
        }
       }
      },
      "text/html": [
       "<div id=\"0c35462c-bdd5-4556-ad3e-10be6ebd492b\" style=\"height: 525px; width: 100%;\" class=\"plotly-graph-div\"></div><script type=\"text/javascript\">require([\"plotly\"], function(Plotly) { window.PLOTLYENV=window.PLOTLYENV || {};window.PLOTLYENV.BASE_URL=\"https://plot.ly\";Plotly.newPlot(\"0c35462c-bdd5-4556-ad3e-10be6ebd492b\", [{\"x\": [0, 1, 2, 3, 4, 5, 6, 7, 8, 9], \"type\": \"scatter\", \"name\": \"All Offers\", \"y\": [7988, 5696, 1578, 451, 135, 47, 10, 5, 2, 0]}], {\"xaxis\": {\"title\": \"\\u041a\\u043e\\u043b-\\u0432\\u043e \\u0438\\u0441\\u0442\\u043e\\u0447\\u043d\\u0438\\u043a\\u043e\\u0432\"}, \"title\": \"\\u0414\\u043b\\u044f \\u0432\\u0441\\u0435\\u0445 \\u043e\\u0444\\u0444\\u0435\\u0440\\u043e\\u0432\", \"yaxis\": {\"title\": \"\\u041a\\u043e\\u043b-\\u0432\\u043e \\u0441\\u0435\\u0441\\u0441\\u0438\\u0439 \\u0441 \\u0437\\u0430\\u043a\\u0430\\u0437\\u0430\\u043c\\u0438\"}}, {\"showLink\": false, \"linkText\": \"Export to plot.ly\"})});</script>"
      ],
      "text/vnd.plotly.v1+html": [
       "<div id=\"0c35462c-bdd5-4556-ad3e-10be6ebd492b\" style=\"height: 525px; width: 100%;\" class=\"plotly-graph-div\"></div><script type=\"text/javascript\">require([\"plotly\"], function(Plotly) { window.PLOTLYENV=window.PLOTLYENV || {};window.PLOTLYENV.BASE_URL=\"https://plot.ly\";Plotly.newPlot(\"0c35462c-bdd5-4556-ad3e-10be6ebd492b\", [{\"x\": [0, 1, 2, 3, 4, 5, 6, 7, 8, 9], \"type\": \"scatter\", \"name\": \"All Offers\", \"y\": [7988, 5696, 1578, 451, 135, 47, 10, 5, 2, 0]}], {\"xaxis\": {\"title\": \"\\u041a\\u043e\\u043b-\\u0432\\u043e \\u0438\\u0441\\u0442\\u043e\\u0447\\u043d\\u0438\\u043a\\u043e\\u0432\"}, \"title\": \"\\u0414\\u043b\\u044f \\u0432\\u0441\\u0435\\u0445 \\u043e\\u0444\\u0444\\u0435\\u0440\\u043e\\u0432\", \"yaxis\": {\"title\": \"\\u041a\\u043e\\u043b-\\u0432\\u043e \\u0441\\u0435\\u0441\\u0441\\u0438\\u0439 \\u0441 \\u0437\\u0430\\u043a\\u0430\\u0437\\u0430\\u043c\\u0438\"}}, {\"showLink\": false, \"linkText\": \"Export to plot.ly\"})});</script>"
      ]
     },
     "metadata": {},
     "output_type": "display_data"
    }
   ],
   "source": [
    "draw3All()"
   ]
  },
  {
   "cell_type": "markdown",
   "metadata": {},
   "source": [
    "### Зависимость конверсии - отношение кол-ва сессий с заказами, к общему кол-ву сессий, - от кол-ва различных источников. Для заданного оффера.   "
   ]
  },
  {
   "cell_type": "code",
   "execution_count": 73,
   "metadata": {
    "collapsed": false,
    "scrolled": false
   },
   "outputs": [
    {
     "data": {
      "application/vnd.plotly.v1+json": {
       "data": [
        {
         "name": "All Offers",
         "type": "scatter",
         "x": [
          0,
          1,
          2,
          3,
          4
         ],
         "y": [
          0.0032541998942844665,
          0.004461875575597828,
          0.029135338345864664,
          0.0732484076433121,
          0.17647058823529413
         ]
        }
       ],
       "layout": {
        "title": "Для оффера 30",
        "xaxis": {
         "title": "Кол-во источников"
        },
        "yaxis": {
         "title": "Конверсия"
        }
       }
      },
      "text/html": [
       "<div id=\"21f53564-2a24-40ac-afee-de65a9d95200\" style=\"height: 525px; width: 100%;\" class=\"plotly-graph-div\"></div><script type=\"text/javascript\">require([\"plotly\"], function(Plotly) { window.PLOTLYENV=window.PLOTLYENV || {};window.PLOTLYENV.BASE_URL=\"https://plot.ly\";Plotly.newPlot(\"21f53564-2a24-40ac-afee-de65a9d95200\", [{\"x\": [0, 1, 2, 3, 4], \"type\": \"scatter\", \"name\": \"All Offers\", \"y\": [0.0032541998942844665, 0.004461875575597828, 0.029135338345864664, 0.0732484076433121, 0.17647058823529413]}], {\"xaxis\": {\"title\": \"\\u041a\\u043e\\u043b-\\u0432\\u043e \\u0438\\u0441\\u0442\\u043e\\u0447\\u043d\\u0438\\u043a\\u043e\\u0432\"}, \"title\": \"\\u0414\\u043b\\u044f \\u043e\\u0444\\u0444\\u0435\\u0440\\u0430 30\", \"yaxis\": {\"title\": \"\\u041a\\u043e\\u043d\\u0432\\u0435\\u0440\\u0441\\u0438\\u044f\"}}, {\"showLink\": false, \"linkText\": \"Export to plot.ly\"})});</script>"
      ],
      "text/vnd.plotly.v1+html": [
       "<div id=\"21f53564-2a24-40ac-afee-de65a9d95200\" style=\"height: 525px; width: 100%;\" class=\"plotly-graph-div\"></div><script type=\"text/javascript\">require([\"plotly\"], function(Plotly) { window.PLOTLYENV=window.PLOTLYENV || {};window.PLOTLYENV.BASE_URL=\"https://plot.ly\";Plotly.newPlot(\"21f53564-2a24-40ac-afee-de65a9d95200\", [{\"x\": [0, 1, 2, 3, 4], \"type\": \"scatter\", \"name\": \"All Offers\", \"y\": [0.0032541998942844665, 0.004461875575597828, 0.029135338345864664, 0.0732484076433121, 0.17647058823529413]}], {\"xaxis\": {\"title\": \"\\u041a\\u043e\\u043b-\\u0432\\u043e \\u0438\\u0441\\u0442\\u043e\\u0447\\u043d\\u0438\\u043a\\u043e\\u0432\"}, \"title\": \"\\u0414\\u043b\\u044f \\u043e\\u0444\\u0444\\u0435\\u0440\\u0430 30\", \"yaxis\": {\"title\": \"\\u041a\\u043e\\u043d\\u0432\\u0435\\u0440\\u0441\\u0438\\u044f\"}}, {\"showLink\": false, \"linkText\": \"Export to plot.ly\"})});</script>"
      ]
     },
     "metadata": {},
     "output_type": "display_data"
    }
   ],
   "source": [
    "draw3Cr(30)"
   ]
  },
  {
   "cell_type": "markdown",
   "metadata": {},
   "source": [
    "### Зависимость конверсии - отношение кол-ва сессий с заказами, к общему кол-ву сессий, - от кол-ва различных источников. По всем офферам."
   ]
  },
  {
   "cell_type": "code",
   "execution_count": 74,
   "metadata": {
    "collapsed": false
   },
   "outputs": [
    {
     "data": {
      "application/vnd.plotly.v1+json": {
       "data": [
        {
         "name": "All Offers",
         "type": "scatter",
         "x": [
          0,
          1,
          2,
          3,
          4,
          5,
          6,
          7,
          8,
          9
         ],
         "y": [
          0.00452976985389394,
          0.007107703672646322,
          0.032724331722693435,
          0.07065643114522951,
          0.11668107173725152,
          0.16666666666666666,
          0.12987012987012986,
          0.19230769230769232,
          0.4,
          0
         ]
        }
       ],
       "layout": {
        "title": "Для всех офферов",
        "xaxis": {
         "title": "Кол-во источников"
        },
        "yaxis": {
         "title": "Конверсия"
        }
       }
      },
      "text/html": [
       "<div id=\"d2bedaa1-9f95-4e56-84bb-ab97917671aa\" style=\"height: 525px; width: 100%;\" class=\"plotly-graph-div\"></div><script type=\"text/javascript\">require([\"plotly\"], function(Plotly) { window.PLOTLYENV=window.PLOTLYENV || {};window.PLOTLYENV.BASE_URL=\"https://plot.ly\";Plotly.newPlot(\"d2bedaa1-9f95-4e56-84bb-ab97917671aa\", [{\"x\": [0, 1, 2, 3, 4, 5, 6, 7, 8, 9], \"type\": \"scatter\", \"name\": \"All Offers\", \"y\": [0.00452976985389394, 0.007107703672646322, 0.032724331722693435, 0.07065643114522951, 0.11668107173725152, 0.16666666666666666, 0.12987012987012986, 0.19230769230769232, 0.4, 0.0]}], {\"xaxis\": {\"title\": \"\\u041a\\u043e\\u043b-\\u0432\\u043e \\u0438\\u0441\\u0442\\u043e\\u0447\\u043d\\u0438\\u043a\\u043e\\u0432\"}, \"title\": \"\\u0414\\u043b\\u044f \\u0432\\u0441\\u0435\\u0445 \\u043e\\u0444\\u0444\\u0435\\u0440\\u043e\\u0432\", \"yaxis\": {\"title\": \"\\u041a\\u043e\\u043d\\u0432\\u0435\\u0440\\u0441\\u0438\\u044f\"}}, {\"showLink\": false, \"linkText\": \"Export to plot.ly\"})});</script>"
      ],
      "text/vnd.plotly.v1+html": [
       "<div id=\"d2bedaa1-9f95-4e56-84bb-ab97917671aa\" style=\"height: 525px; width: 100%;\" class=\"plotly-graph-div\"></div><script type=\"text/javascript\">require([\"plotly\"], function(Plotly) { window.PLOTLYENV=window.PLOTLYENV || {};window.PLOTLYENV.BASE_URL=\"https://plot.ly\";Plotly.newPlot(\"d2bedaa1-9f95-4e56-84bb-ab97917671aa\", [{\"x\": [0, 1, 2, 3, 4, 5, 6, 7, 8, 9], \"type\": \"scatter\", \"name\": \"All Offers\", \"y\": [0.00452976985389394, 0.007107703672646322, 0.032724331722693435, 0.07065643114522951, 0.11668107173725152, 0.16666666666666666, 0.12987012987012986, 0.19230769230769232, 0.4, 0.0]}], {\"xaxis\": {\"title\": \"\\u041a\\u043e\\u043b-\\u0432\\u043e \\u0438\\u0441\\u0442\\u043e\\u0447\\u043d\\u0438\\u043a\\u043e\\u0432\"}, \"title\": \"\\u0414\\u043b\\u044f \\u0432\\u0441\\u0435\\u0445 \\u043e\\u0444\\u0444\\u0435\\u0440\\u043e\\u0432\", \"yaxis\": {\"title\": \"\\u041a\\u043e\\u043d\\u0432\\u0435\\u0440\\u0441\\u0438\\u044f\"}}, {\"showLink\": false, \"linkText\": \"Export to plot.ly\"})});</script>"
      ]
     },
     "metadata": {},
     "output_type": "display_data"
    }
   ],
   "source": [
    "draw3AllCr()"
   ]
  },
  {
   "cell_type": "code",
   "execution_count": 75,
   "metadata": {
    "collapsed": true
   },
   "outputs": [],
   "source": [
    "def getQuery4():\n",
    "    return '''\n",
    "        select\n",
    "        offer_id,\n",
    "        last_source,\n",
    "        count(*) as sessions_count,\n",
    "        countIf(orders_count > 0) as sessions_orders_count,\n",
    "        countIf(typ_count > 0) as sessions_typ_count,\n",
    "        sessions_typ_count/sessions_count as cr\n",
    "        from (''' + getSubQuery() + ''') visits \n",
    "        group by offer_id, last_source\n",
    "        order by offer_id, sessions_typ_count desc\n",
    "        '''\n",
    "\n",
    "def getQuery4All():\n",
    "    return '''\n",
    "        select\n",
    "        last_source,\n",
    "        count(*) as sessions_count,\n",
    "        countIf(orders_count > 0) as sessions_orders_count,\n",
    "        countIf(typ_count > 0) as sessions_typ_count,\n",
    "        sessions_typ_count/sessions_count as cr\n",
    "        from (''' + getSubQuery() + ''') visits \n",
    "        group by last_source\n",
    "        order by sessions_typ_count desc\n",
    "        '''"
   ]
  },
  {
   "cell_type": "code",
   "execution_count": 76,
   "metadata": {
    "collapsed": false
   },
   "outputs": [],
   "source": [
    "df4 = readClickHouse(getQuery4(), 'query4.csv')\n",
    "df4All = readClickHouse(getQuery4All(), 'query4All.csv')\n",
    "df4 = df4.replace(NaN, 'direct')\n",
    "df4All = df4All.replace(NaN, 'direct')"
   ]
  },
  {
   "cell_type": "code",
   "execution_count": 77,
   "metadata": {
    "collapsed": false
   },
   "outputs": [],
   "source": [
    "def draw4(offer_id = 30, head = 10):\n",
    "    #нормировка\n",
    "    layout4_1 = {'title': 'Нормированный график для оффера ' + str(offer_id), 'xaxis': {'title': 'Последний источник'}, 'yaxis': {'title': 'Кол-во сессий'}}\n",
    "    df4_1 = df4[df4.offer_id == offer_id][['last_source'] + ['sessions_count'] + ['sessions_typ_count'] + ['cr']]\n",
    "    df4_1 = df4_1.head(head)\n",
    "    df4_1.sessions_count /= df4_1.sessions_count.values.max()\n",
    "    df4_1.sessions_typ_count /= df4_1.sessions_typ_count.values.max()\n",
    "    \n",
    "    trace4_1_1 = go.Scatter(x = df4_1['last_source'], y = df4_1['sessions_count'], name = 'Всего')\n",
    "    trace4_1_2 = go.Scatter(x = df4_1['last_source'], y = df4_1['sessions_typ_count'], name = 'С заказами')\n",
    "    iplot(go.Figure(data=[trace4_1_1, trace4_1_2], layout=layout4_1), show_link = False)\n",
    "\n",
    "    layout4_2_1 = {'title': 'Для оффера ' + str(offer_id), 'xaxis': {'title': 'Последний источник'}, 'yaxis': {'title': 'Кол-во сессий'}}\n",
    "    layout4_2_2 = {'title': 'Для оффера ' + str(offer_id), 'xaxis': {'title': 'Последний источник'}, 'yaxis': {'title': 'Кол-во сессий с заказами'}}\n",
    "    df4_2 = df4[df4.offer_id == offer_id][['last_source'] + ['sessions_count'] + ['sessions_typ_count'] + ['cr']]\n",
    "    df4_2 = df4_2.head(head)\n",
    "    trace4_2_1 = go.Scatter(x = df4_2['last_source'], y = df4_2['sessions_count'], name = 'OfferId ' + str(offer_id))\n",
    "    trace4_2_2 = go.Scatter(x = df4_2['last_source'], y = df4_2['sessions_typ_count'], name = 'OfferId ' + str(offer_id))\n",
    "    iplot(go.Figure(data=[trace4_2_1], layout=layout4_2_1), show_link = False)\n",
    "    iplot(go.Figure(data=[trace4_2_2], layout=layout4_2_2), show_link = False)  \n",
    "\n",
    "def draw4All(head = 10):\n",
    "    layout4_1 = {'title': 'Нормированный график для всех офферов', 'xaxis': {'title': 'Последний источник'}, 'yaxis': {'title': 'Кол-во сессий'}}\n",
    "    df4_1 = df4All.head(head)\n",
    "    df4_1.sessions_count /= df4_1.sessions_count.values.max()\n",
    "    df4_1.sessions_typ_count /= df4_1.sessions_typ_count.values.max()\n",
    "\n",
    "    trace4_1_1 = go.Scatter(x = df4_1['last_source'], y = df4_1['sessions_count'], name = 'Всего')\n",
    "    trace4_1_2 = go.Scatter(x = df4_1['last_source'], y = df4_1['sessions_typ_count'], name = 'С заказами')\n",
    "    iplot(go.Figure(data=[trace4_1_1, trace4_1_2], layout=layout4_1), show_link = False)\n",
    "\n",
    "    layout4_2_1 = {'title': 'Для всех офферов', 'xaxis': {'title': 'Последний источник'}, 'yaxis': {'title': 'Кол-во сессий'}}\n",
    "    layout4_2_2 = {'title': 'Для всех офферов', 'xaxis': {'title': 'Последний источник'}, 'yaxis': {'title': 'Кол-во сессий с заказами'}}\n",
    "    df4_2 = df4All.head(head)\n",
    "    trace4_2_1 = go.Scatter(x = df4_2['last_source'], y = df4_2['sessions_count'], name = 'All Offers')\n",
    "    trace4_2_2 = go.Scatter(x = df4_2['last_source'], y = df4_2['sessions_typ_count'], name = 'All Offers')\n",
    "    iplot(go.Figure(data=[trace4_2_1], layout=layout4_2_1), show_link = False)\n",
    "    iplot(go.Figure(data=[trace4_2_2], layout=layout4_2_2), show_link = False)\n",
    "\n",
    "def draw4Cr(offer_id = 30, head = 10):\n",
    "    layout4_2 = {'title': 'Для оффера ' + str(offer_id), 'xaxis': {'title': 'Последний источник'}, 'yaxis': {'title': 'Конверсия'}}\n",
    "    df4_2 = df4[df4.offer_id == offer_id][['last_source'] + ['cr']]\n",
    "    df4_2 = df4_2.head(head)\n",
    "    trace4_3_1 = go.Scatter(x = df4_2['last_source'], y = df4_2['cr'], name = 'All Offers')\n",
    "    iplot(go.Figure(data=[trace4_3_1], layout=layout4_2), show_link = False)\n",
    "    \n",
    "def draw4AllCr(head = 10):\n",
    "    layout4_2 = {'title': 'Для всех офферов', 'xaxis': {'title': 'Последний источник'}, 'yaxis': {'title': 'Конверсия'}}\n",
    "    df4_2 = df4All.head(head)\n",
    "    trace4_3_1 = go.Scatter(x = df4_2['last_source'], y = df4_2['cr'], name = 'All Offers')\n",
    "    iplot(go.Figure(data=[trace4_3_1], layout=layout4_2), show_link = False)"
   ]
  },
  {
   "cell_type": "markdown",
   "metadata": {},
   "source": [
    "### Распределение кол-ва сессий по источникам для заданного оффера\n",
    "#### 1. Нормированный график\n",
    "#### 2. Все сессии\n",
    "#### 3. Сессии с заказами"
   ]
  },
  {
   "cell_type": "code",
   "execution_count": 78,
   "metadata": {
    "collapsed": false
   },
   "outputs": [
    {
     "data": {
      "application/vnd.plotly.v1+json": {
       "data": [
        {
         "name": "Всего",
         "type": "scatter",
         "x": [
          "direct",
          "advcake",
          "serviceletter",
          "sale.mi-shop.com",
          "yandex_direct",
          "newsletter",
          "google_adwords",
          "device",
          "mi_community",
          "survey"
         ],
         "y": [
          1,
          0.13838661906773564,
          0.009080316232690067,
          0.054783646146204235,
          0.16377529466926016,
          0.040030453412314135,
          0.09381600753907646,
          0.09454020453922966,
          0.001401971115681186,
          6.499203847528678e-05
         ]
        },
        {
         "name": "С заказами",
         "type": "scatter",
         "x": [
          "direct",
          "advcake",
          "serviceletter",
          "sale.mi-shop.com",
          "yandex_direct",
          "newsletter",
          "google_adwords",
          "device",
          "mi_community",
          "survey"
         ],
         "y": [
          1,
          0.30892143808255657,
          0.170439414114514,
          0.13715046604527298,
          0.11584553928095873,
          0.08788282290279627,
          0.0758988015978695,
          0.017310252996005325,
          0.0039946737683089215,
          0.002663115845539281
         ]
        }
       ],
       "layout": {
        "title": "Нормированный график для оффера 30",
        "xaxis": {
         "title": "Последний источник"
        },
        "yaxis": {
         "title": "Кол-во сессий"
        }
       }
      },
      "text/html": [
       "<div id=\"e3d15def-0030-4051-a8c6-348e82b63e7e\" style=\"height: 525px; width: 100%;\" class=\"plotly-graph-div\"></div><script type=\"text/javascript\">require([\"plotly\"], function(Plotly) { window.PLOTLYENV=window.PLOTLYENV || {};window.PLOTLYENV.BASE_URL=\"https://plot.ly\";Plotly.newPlot(\"e3d15def-0030-4051-a8c6-348e82b63e7e\", [{\"x\": [\"direct\", \"advcake\", \"serviceletter\", \"sale.mi-shop.com\", \"yandex_direct\", \"newsletter\", \"google_adwords\", \"device\", \"mi_community\", \"survey\"], \"type\": \"scatter\", \"name\": \"\\u0412\\u0441\\u0435\\u0433\\u043e\", \"y\": [1.0, 0.13838661906773564, 0.009080316232690067, 0.054783646146204235, 0.16377529466926016, 0.040030453412314135, 0.09381600753907646, 0.09454020453922966, 0.001401971115681186, 6.499203847528678e-05]}, {\"x\": [\"direct\", \"advcake\", \"serviceletter\", \"sale.mi-shop.com\", \"yandex_direct\", \"newsletter\", \"google_adwords\", \"device\", \"mi_community\", \"survey\"], \"type\": \"scatter\", \"name\": \"\\u0421 \\u0437\\u0430\\u043a\\u0430\\u0437\\u0430\\u043c\\u0438\", \"y\": [1.0, 0.30892143808255657, 0.170439414114514, 0.13715046604527298, 0.11584553928095873, 0.08788282290279627, 0.0758988015978695, 0.017310252996005325, 0.0039946737683089215, 0.002663115845539281]}], {\"xaxis\": {\"title\": \"\\u041f\\u043e\\u0441\\u043b\\u0435\\u0434\\u043d\\u0438\\u0439 \\u0438\\u0441\\u0442\\u043e\\u0447\\u043d\\u0438\\u043a\"}, \"title\": \"\\u041d\\u043e\\u0440\\u043c\\u0438\\u0440\\u043e\\u0432\\u0430\\u043d\\u043d\\u044b\\u0439 \\u0433\\u0440\\u0430\\u0444\\u0438\\u043a \\u0434\\u043b\\u044f \\u043e\\u0444\\u0444\\u0435\\u0440\\u0430 30\", \"yaxis\": {\"title\": \"\\u041a\\u043e\\u043b-\\u0432\\u043e \\u0441\\u0435\\u0441\\u0441\\u0438\\u0439\"}}, {\"showLink\": false, \"linkText\": \"Export to plot.ly\"})});</script>"
      ],
      "text/vnd.plotly.v1+html": [
       "<div id=\"e3d15def-0030-4051-a8c6-348e82b63e7e\" style=\"height: 525px; width: 100%;\" class=\"plotly-graph-div\"></div><script type=\"text/javascript\">require([\"plotly\"], function(Plotly) { window.PLOTLYENV=window.PLOTLYENV || {};window.PLOTLYENV.BASE_URL=\"https://plot.ly\";Plotly.newPlot(\"e3d15def-0030-4051-a8c6-348e82b63e7e\", [{\"x\": [\"direct\", \"advcake\", \"serviceletter\", \"sale.mi-shop.com\", \"yandex_direct\", \"newsletter\", \"google_adwords\", \"device\", \"mi_community\", \"survey\"], \"type\": \"scatter\", \"name\": \"\\u0412\\u0441\\u0435\\u0433\\u043e\", \"y\": [1.0, 0.13838661906773564, 0.009080316232690067, 0.054783646146204235, 0.16377529466926016, 0.040030453412314135, 0.09381600753907646, 0.09454020453922966, 0.001401971115681186, 6.499203847528678e-05]}, {\"x\": [\"direct\", \"advcake\", \"serviceletter\", \"sale.mi-shop.com\", \"yandex_direct\", \"newsletter\", \"google_adwords\", \"device\", \"mi_community\", \"survey\"], \"type\": \"scatter\", \"name\": \"\\u0421 \\u0437\\u0430\\u043a\\u0430\\u0437\\u0430\\u043c\\u0438\", \"y\": [1.0, 0.30892143808255657, 0.170439414114514, 0.13715046604527298, 0.11584553928095873, 0.08788282290279627, 0.0758988015978695, 0.017310252996005325, 0.0039946737683089215, 0.002663115845539281]}], {\"xaxis\": {\"title\": \"\\u041f\\u043e\\u0441\\u043b\\u0435\\u0434\\u043d\\u0438\\u0439 \\u0438\\u0441\\u0442\\u043e\\u0447\\u043d\\u0438\\u043a\"}, \"title\": \"\\u041d\\u043e\\u0440\\u043c\\u0438\\u0440\\u043e\\u0432\\u0430\\u043d\\u043d\\u044b\\u0439 \\u0433\\u0440\\u0430\\u0444\\u0438\\u043a \\u0434\\u043b\\u044f \\u043e\\u0444\\u0444\\u0435\\u0440\\u0430 30\", \"yaxis\": {\"title\": \"\\u041a\\u043e\\u043b-\\u0432\\u043e \\u0441\\u0435\\u0441\\u0441\\u0438\\u0439\"}}, {\"showLink\": false, \"linkText\": \"Export to plot.ly\"})});</script>"
      ]
     },
     "metadata": {},
     "output_type": "display_data"
    },
    {
     "data": {
      "application/vnd.plotly.v1+json": {
       "data": [
        {
         "name": "OfferId 30",
         "type": "scatter",
         "x": [
          "direct",
          "advcake",
          "serviceletter",
          "sale.mi-shop.com",
          "yandex_direct",
          "newsletter",
          "google_adwords",
          "device",
          "mi_community",
          "survey"
         ],
         "y": [
          215411,
          29810,
          1956,
          11801,
          35279,
          8623,
          20209,
          20365,
          302,
          14
         ]
        }
       ],
       "layout": {
        "title": "Для оффера 30",
        "xaxis": {
         "title": "Последний источник"
        },
        "yaxis": {
         "title": "Кол-во сессий"
        }
       }
      },
      "text/html": [
       "<div id=\"12739e1f-229f-47c0-8430-e1e070056ab2\" style=\"height: 525px; width: 100%;\" class=\"plotly-graph-div\"></div><script type=\"text/javascript\">require([\"plotly\"], function(Plotly) { window.PLOTLYENV=window.PLOTLYENV || {};window.PLOTLYENV.BASE_URL=\"https://plot.ly\";Plotly.newPlot(\"12739e1f-229f-47c0-8430-e1e070056ab2\", [{\"x\": [\"direct\", \"advcake\", \"serviceletter\", \"sale.mi-shop.com\", \"yandex_direct\", \"newsletter\", \"google_adwords\", \"device\", \"mi_community\", \"survey\"], \"type\": \"scatter\", \"name\": \"OfferId 30\", \"y\": [215411, 29810, 1956, 11801, 35279, 8623, 20209, 20365, 302, 14]}], {\"xaxis\": {\"title\": \"\\u041f\\u043e\\u0441\\u043b\\u0435\\u0434\\u043d\\u0438\\u0439 \\u0438\\u0441\\u0442\\u043e\\u0447\\u043d\\u0438\\u043a\"}, \"title\": \"\\u0414\\u043b\\u044f \\u043e\\u0444\\u0444\\u0435\\u0440\\u0430 30\", \"yaxis\": {\"title\": \"\\u041a\\u043e\\u043b-\\u0432\\u043e \\u0441\\u0435\\u0441\\u0441\\u0438\\u0439\"}}, {\"showLink\": false, \"linkText\": \"Export to plot.ly\"})});</script>"
      ],
      "text/vnd.plotly.v1+html": [
       "<div id=\"12739e1f-229f-47c0-8430-e1e070056ab2\" style=\"height: 525px; width: 100%;\" class=\"plotly-graph-div\"></div><script type=\"text/javascript\">require([\"plotly\"], function(Plotly) { window.PLOTLYENV=window.PLOTLYENV || {};window.PLOTLYENV.BASE_URL=\"https://plot.ly\";Plotly.newPlot(\"12739e1f-229f-47c0-8430-e1e070056ab2\", [{\"x\": [\"direct\", \"advcake\", \"serviceletter\", \"sale.mi-shop.com\", \"yandex_direct\", \"newsletter\", \"google_adwords\", \"device\", \"mi_community\", \"survey\"], \"type\": \"scatter\", \"name\": \"OfferId 30\", \"y\": [215411, 29810, 1956, 11801, 35279, 8623, 20209, 20365, 302, 14]}], {\"xaxis\": {\"title\": \"\\u041f\\u043e\\u0441\\u043b\\u0435\\u0434\\u043d\\u0438\\u0439 \\u0438\\u0441\\u0442\\u043e\\u0447\\u043d\\u0438\\u043a\"}, \"title\": \"\\u0414\\u043b\\u044f \\u043e\\u0444\\u0444\\u0435\\u0440\\u0430 30\", \"yaxis\": {\"title\": \"\\u041a\\u043e\\u043b-\\u0432\\u043e \\u0441\\u0435\\u0441\\u0441\\u0438\\u0439\"}}, {\"showLink\": false, \"linkText\": \"Export to plot.ly\"})});</script>"
      ]
     },
     "metadata": {},
     "output_type": "display_data"
    },
    {
     "data": {
      "application/vnd.plotly.v1+json": {
       "data": [
        {
         "name": "OfferId 30",
         "type": "scatter",
         "x": [
          "direct",
          "advcake",
          "serviceletter",
          "sale.mi-shop.com",
          "yandex_direct",
          "newsletter",
          "google_adwords",
          "device",
          "mi_community",
          "survey"
         ],
         "y": [
          751,
          232,
          128,
          103,
          87,
          66,
          57,
          13,
          3,
          2
         ]
        }
       ],
       "layout": {
        "title": "Для оффера 30",
        "xaxis": {
         "title": "Последний источник"
        },
        "yaxis": {
         "title": "Кол-во сессий с заказами"
        }
       }
      },
      "text/html": [
       "<div id=\"cb590640-a6dd-497f-8418-b7c2682e81be\" style=\"height: 525px; width: 100%;\" class=\"plotly-graph-div\"></div><script type=\"text/javascript\">require([\"plotly\"], function(Plotly) { window.PLOTLYENV=window.PLOTLYENV || {};window.PLOTLYENV.BASE_URL=\"https://plot.ly\";Plotly.newPlot(\"cb590640-a6dd-497f-8418-b7c2682e81be\", [{\"x\": [\"direct\", \"advcake\", \"serviceletter\", \"sale.mi-shop.com\", \"yandex_direct\", \"newsletter\", \"google_adwords\", \"device\", \"mi_community\", \"survey\"], \"type\": \"scatter\", \"name\": \"OfferId 30\", \"y\": [751, 232, 128, 103, 87, 66, 57, 13, 3, 2]}], {\"xaxis\": {\"title\": \"\\u041f\\u043e\\u0441\\u043b\\u0435\\u0434\\u043d\\u0438\\u0439 \\u0438\\u0441\\u0442\\u043e\\u0447\\u043d\\u0438\\u043a\"}, \"title\": \"\\u0414\\u043b\\u044f \\u043e\\u0444\\u0444\\u0435\\u0440\\u0430 30\", \"yaxis\": {\"title\": \"\\u041a\\u043e\\u043b-\\u0432\\u043e \\u0441\\u0435\\u0441\\u0441\\u0438\\u0439 \\u0441 \\u0437\\u0430\\u043a\\u0430\\u0437\\u0430\\u043c\\u0438\"}}, {\"showLink\": false, \"linkText\": \"Export to plot.ly\"})});</script>"
      ],
      "text/vnd.plotly.v1+html": [
       "<div id=\"cb590640-a6dd-497f-8418-b7c2682e81be\" style=\"height: 525px; width: 100%;\" class=\"plotly-graph-div\"></div><script type=\"text/javascript\">require([\"plotly\"], function(Plotly) { window.PLOTLYENV=window.PLOTLYENV || {};window.PLOTLYENV.BASE_URL=\"https://plot.ly\";Plotly.newPlot(\"cb590640-a6dd-497f-8418-b7c2682e81be\", [{\"x\": [\"direct\", \"advcake\", \"serviceletter\", \"sale.mi-shop.com\", \"yandex_direct\", \"newsletter\", \"google_adwords\", \"device\", \"mi_community\", \"survey\"], \"type\": \"scatter\", \"name\": \"OfferId 30\", \"y\": [751, 232, 128, 103, 87, 66, 57, 13, 3, 2]}], {\"xaxis\": {\"title\": \"\\u041f\\u043e\\u0441\\u043b\\u0435\\u0434\\u043d\\u0438\\u0439 \\u0438\\u0441\\u0442\\u043e\\u0447\\u043d\\u0438\\u043a\"}, \"title\": \"\\u0414\\u043b\\u044f \\u043e\\u0444\\u0444\\u0435\\u0440\\u0430 30\", \"yaxis\": {\"title\": \"\\u041a\\u043e\\u043b-\\u0432\\u043e \\u0441\\u0435\\u0441\\u0441\\u0438\\u0439 \\u0441 \\u0437\\u0430\\u043a\\u0430\\u0437\\u0430\\u043c\\u0438\"}}, {\"showLink\": false, \"linkText\": \"Export to plot.ly\"})});</script>"
      ]
     },
     "metadata": {},
     "output_type": "display_data"
    }
   ],
   "source": [
    "draw4(30)"
   ]
  },
  {
   "cell_type": "markdown",
   "metadata": {},
   "source": [
    "### Распределение кол-ва сессий по источникам по всем офферам\n",
    "#### 1. Нормированный график\n",
    "#### 2. Все сессии\n",
    "#### 3. Сессии с заказами"
   ]
  },
  {
   "cell_type": "code",
   "execution_count": 79,
   "metadata": {
    "collapsed": false
   },
   "outputs": [
    {
     "data": {
      "application/vnd.plotly.v1+json": {
       "data": [
        {
         "name": "Всего",
         "type": "scatter",
         "x": [
          "direct",
          "yandex",
          "yandex_market",
          "advcake",
          "google",
          "rtbhouse",
          "yandex.market",
          "rr",
          "serviceletter",
          "sale.mi-shop.com"
         ],
         "y": [
          1,
          0.21503705406199652,
          0.02732601285486082,
          0.04879118340874501,
          0.02659133503252593,
          0.0019027297997902882,
          0.006592661454742131,
          0.001688329657085553,
          0.0011280306174838457,
          0.006813350668299538
         ]
        },
        {
         "name": "С заказами",
         "type": "scatter",
         "x": [
          "direct",
          "yandex",
          "yandex_market",
          "advcake",
          "google",
          "rtbhouse",
          "yandex.market",
          "rr",
          "serviceletter",
          "sale.mi-shop.com"
         ],
         "y": [
          1,
          0.21892706449668475,
          0.2,
          0.1135623869801085,
          0.07257383966244725,
          0.021940928270042195,
          0.019891500904159132,
          0.017600964436407473,
          0.015792646172393007,
          0.013140446051838457
         ]
        }
       ],
       "layout": {
        "title": "Нормированный график для всех офферов",
        "xaxis": {
         "title": "Последний источник"
        },
        "yaxis": {
         "title": "Кол-во сессий"
        }
       }
      },
      "text/html": [
       "<div id=\"f0232eba-a306-4481-8b66-6efd930c0365\" style=\"height: 525px; width: 100%;\" class=\"plotly-graph-div\"></div><script type=\"text/javascript\">require([\"plotly\"], function(Plotly) { window.PLOTLYENV=window.PLOTLYENV || {};window.PLOTLYENV.BASE_URL=\"https://plot.ly\";Plotly.newPlot(\"f0232eba-a306-4481-8b66-6efd930c0365\", [{\"x\": [\"direct\", \"yandex\", \"yandex_market\", \"advcake\", \"google\", \"rtbhouse\", \"yandex.market\", \"rr\", \"serviceletter\", \"sale.mi-shop.com\"], \"type\": \"scatter\", \"name\": \"\\u0412\\u0441\\u0435\\u0433\\u043e\", \"y\": [1.0, 0.21503705406199652, 0.02732601285486082, 0.04879118340874501, 0.02659133503252593, 0.0019027297997902882, 0.006592661454742131, 0.001688329657085553, 0.0011280306174838457, 0.006813350668299538]}, {\"x\": [\"direct\", \"yandex\", \"yandex_market\", \"advcake\", \"google\", \"rtbhouse\", \"yandex.market\", \"rr\", \"serviceletter\", \"sale.mi-shop.com\"], \"type\": \"scatter\", \"name\": \"\\u0421 \\u0437\\u0430\\u043a\\u0430\\u0437\\u0430\\u043c\\u0438\", \"y\": [1.0, 0.21892706449668475, 0.2, 0.1135623869801085, 0.07257383966244725, 0.021940928270042195, 0.019891500904159132, 0.017600964436407473, 0.015792646172393007, 0.013140446051838457]}], {\"xaxis\": {\"title\": \"\\u041f\\u043e\\u0441\\u043b\\u0435\\u0434\\u043d\\u0438\\u0439 \\u0438\\u0441\\u0442\\u043e\\u0447\\u043d\\u0438\\u043a\"}, \"title\": \"\\u041d\\u043e\\u0440\\u043c\\u0438\\u0440\\u043e\\u0432\\u0430\\u043d\\u043d\\u044b\\u0439 \\u0433\\u0440\\u0430\\u0444\\u0438\\u043a \\u0434\\u043b\\u044f \\u0432\\u0441\\u0435\\u0445 \\u043e\\u0444\\u0444\\u0435\\u0440\\u043e\\u0432\", \"yaxis\": {\"title\": \"\\u041a\\u043e\\u043b-\\u0432\\u043e \\u0441\\u0435\\u0441\\u0441\\u0438\\u0439\"}}, {\"showLink\": false, \"linkText\": \"Export to plot.ly\"})});</script>"
      ],
      "text/vnd.plotly.v1+html": [
       "<div id=\"f0232eba-a306-4481-8b66-6efd930c0365\" style=\"height: 525px; width: 100%;\" class=\"plotly-graph-div\"></div><script type=\"text/javascript\">require([\"plotly\"], function(Plotly) { window.PLOTLYENV=window.PLOTLYENV || {};window.PLOTLYENV.BASE_URL=\"https://plot.ly\";Plotly.newPlot(\"f0232eba-a306-4481-8b66-6efd930c0365\", [{\"x\": [\"direct\", \"yandex\", \"yandex_market\", \"advcake\", \"google\", \"rtbhouse\", \"yandex.market\", \"rr\", \"serviceletter\", \"sale.mi-shop.com\"], \"type\": \"scatter\", \"name\": \"\\u0412\\u0441\\u0435\\u0433\\u043e\", \"y\": [1.0, 0.21503705406199652, 0.02732601285486082, 0.04879118340874501, 0.02659133503252593, 0.0019027297997902882, 0.006592661454742131, 0.001688329657085553, 0.0011280306174838457, 0.006813350668299538]}, {\"x\": [\"direct\", \"yandex\", \"yandex_market\", \"advcake\", \"google\", \"rtbhouse\", \"yandex.market\", \"rr\", \"serviceletter\", \"sale.mi-shop.com\"], \"type\": \"scatter\", \"name\": \"\\u0421 \\u0437\\u0430\\u043a\\u0430\\u0437\\u0430\\u043c\\u0438\", \"y\": [1.0, 0.21892706449668475, 0.2, 0.1135623869801085, 0.07257383966244725, 0.021940928270042195, 0.019891500904159132, 0.017600964436407473, 0.015792646172393007, 0.013140446051838457]}], {\"xaxis\": {\"title\": \"\\u041f\\u043e\\u0441\\u043b\\u0435\\u0434\\u043d\\u0438\\u0439 \\u0438\\u0441\\u0442\\u043e\\u0447\\u043d\\u0438\\u043a\"}, \"title\": \"\\u041d\\u043e\\u0440\\u043c\\u0438\\u0440\\u043e\\u0432\\u0430\\u043d\\u043d\\u044b\\u0439 \\u0433\\u0440\\u0430\\u0444\\u0438\\u043a \\u0434\\u043b\\u044f \\u0432\\u0441\\u0435\\u0445 \\u043e\\u0444\\u0444\\u0435\\u0440\\u043e\\u0432\", \"yaxis\": {\"title\": \"\\u041a\\u043e\\u043b-\\u0432\\u043e \\u0441\\u0435\\u0441\\u0441\\u0438\\u0439\"}}, {\"showLink\": false, \"linkText\": \"Export to plot.ly\"})});</script>"
      ]
     },
     "metadata": {},
     "output_type": "display_data"
    },
    {
     "data": {
      "application/vnd.plotly.v1+json": {
       "data": [
        {
         "name": "All Offers",
         "type": "scatter",
         "x": [
          "direct",
          "yandex",
          "yandex_market",
          "advcake",
          "google",
          "rtbhouse",
          "yandex.market",
          "rr",
          "serviceletter",
          "sale.mi-shop.com"
         ],
         "y": [
          1749066,
          376114,
          47795,
          85339,
          46510,
          3328,
          11531,
          2953,
          1973,
          11917
         ]
        }
       ],
       "layout": {
        "title": "Для всех офферов",
        "xaxis": {
         "title": "Последний источник"
        },
        "yaxis": {
         "title": "Кол-во сессий"
        }
       }
      },
      "text/html": [
       "<div id=\"6bd6cd0b-6870-492f-96ef-0870207a427c\" style=\"height: 525px; width: 100%;\" class=\"plotly-graph-div\"></div><script type=\"text/javascript\">require([\"plotly\"], function(Plotly) { window.PLOTLYENV=window.PLOTLYENV || {};window.PLOTLYENV.BASE_URL=\"https://plot.ly\";Plotly.newPlot(\"6bd6cd0b-6870-492f-96ef-0870207a427c\", [{\"x\": [\"direct\", \"yandex\", \"yandex_market\", \"advcake\", \"google\", \"rtbhouse\", \"yandex.market\", \"rr\", \"serviceletter\", \"sale.mi-shop.com\"], \"type\": \"scatter\", \"name\": \"All Offers\", \"y\": [1749066, 376114, 47795, 85339, 46510, 3328, 11531, 2953, 1973, 11917]}], {\"xaxis\": {\"title\": \"\\u041f\\u043e\\u0441\\u043b\\u0435\\u0434\\u043d\\u0438\\u0439 \\u0438\\u0441\\u0442\\u043e\\u0447\\u043d\\u0438\\u043a\"}, \"title\": \"\\u0414\\u043b\\u044f \\u0432\\u0441\\u0435\\u0445 \\u043e\\u0444\\u0444\\u0435\\u0440\\u043e\\u0432\", \"yaxis\": {\"title\": \"\\u041a\\u043e\\u043b-\\u0432\\u043e \\u0441\\u0435\\u0441\\u0441\\u0438\\u0439\"}}, {\"showLink\": false, \"linkText\": \"Export to plot.ly\"})});</script>"
      ],
      "text/vnd.plotly.v1+html": [
       "<div id=\"6bd6cd0b-6870-492f-96ef-0870207a427c\" style=\"height: 525px; width: 100%;\" class=\"plotly-graph-div\"></div><script type=\"text/javascript\">require([\"plotly\"], function(Plotly) { window.PLOTLYENV=window.PLOTLYENV || {};window.PLOTLYENV.BASE_URL=\"https://plot.ly\";Plotly.newPlot(\"6bd6cd0b-6870-492f-96ef-0870207a427c\", [{\"x\": [\"direct\", \"yandex\", \"yandex_market\", \"advcake\", \"google\", \"rtbhouse\", \"yandex.market\", \"rr\", \"serviceletter\", \"sale.mi-shop.com\"], \"type\": \"scatter\", \"name\": \"All Offers\", \"y\": [1749066, 376114, 47795, 85339, 46510, 3328, 11531, 2953, 1973, 11917]}], {\"xaxis\": {\"title\": \"\\u041f\\u043e\\u0441\\u043b\\u0435\\u0434\\u043d\\u0438\\u0439 \\u0438\\u0441\\u0442\\u043e\\u0447\\u043d\\u0438\\u043a\"}, \"title\": \"\\u0414\\u043b\\u044f \\u0432\\u0441\\u0435\\u0445 \\u043e\\u0444\\u0444\\u0435\\u0440\\u043e\\u0432\", \"yaxis\": {\"title\": \"\\u041a\\u043e\\u043b-\\u0432\\u043e \\u0441\\u0435\\u0441\\u0441\\u0438\\u0439\"}}, {\"showLink\": false, \"linkText\": \"Export to plot.ly\"})});</script>"
      ]
     },
     "metadata": {},
     "output_type": "display_data"
    },
    {
     "data": {
      "application/vnd.plotly.v1+json": {
       "data": [
        {
         "name": "All Offers",
         "type": "scatter",
         "x": [
          "direct",
          "yandex",
          "yandex_market",
          "advcake",
          "google",
          "rtbhouse",
          "yandex.market",
          "rr",
          "serviceletter",
          "sale.mi-shop.com"
         ],
         "y": [
          8295,
          1816,
          1659,
          942,
          602,
          182,
          165,
          146,
          131,
          109
         ]
        }
       ],
       "layout": {
        "title": "Для всех офферов",
        "xaxis": {
         "title": "Последний источник"
        },
        "yaxis": {
         "title": "Кол-во сессий с заказами"
        }
       }
      },
      "text/html": [
       "<div id=\"26691947-09d0-4030-bad7-2293185d7b88\" style=\"height: 525px; width: 100%;\" class=\"plotly-graph-div\"></div><script type=\"text/javascript\">require([\"plotly\"], function(Plotly) { window.PLOTLYENV=window.PLOTLYENV || {};window.PLOTLYENV.BASE_URL=\"https://plot.ly\";Plotly.newPlot(\"26691947-09d0-4030-bad7-2293185d7b88\", [{\"x\": [\"direct\", \"yandex\", \"yandex_market\", \"advcake\", \"google\", \"rtbhouse\", \"yandex.market\", \"rr\", \"serviceletter\", \"sale.mi-shop.com\"], \"type\": \"scatter\", \"name\": \"All Offers\", \"y\": [8295, 1816, 1659, 942, 602, 182, 165, 146, 131, 109]}], {\"xaxis\": {\"title\": \"\\u041f\\u043e\\u0441\\u043b\\u0435\\u0434\\u043d\\u0438\\u0439 \\u0438\\u0441\\u0442\\u043e\\u0447\\u043d\\u0438\\u043a\"}, \"title\": \"\\u0414\\u043b\\u044f \\u0432\\u0441\\u0435\\u0445 \\u043e\\u0444\\u0444\\u0435\\u0440\\u043e\\u0432\", \"yaxis\": {\"title\": \"\\u041a\\u043e\\u043b-\\u0432\\u043e \\u0441\\u0435\\u0441\\u0441\\u0438\\u0439 \\u0441 \\u0437\\u0430\\u043a\\u0430\\u0437\\u0430\\u043c\\u0438\"}}, {\"showLink\": false, \"linkText\": \"Export to plot.ly\"})});</script>"
      ],
      "text/vnd.plotly.v1+html": [
       "<div id=\"26691947-09d0-4030-bad7-2293185d7b88\" style=\"height: 525px; width: 100%;\" class=\"plotly-graph-div\"></div><script type=\"text/javascript\">require([\"plotly\"], function(Plotly) { window.PLOTLYENV=window.PLOTLYENV || {};window.PLOTLYENV.BASE_URL=\"https://plot.ly\";Plotly.newPlot(\"26691947-09d0-4030-bad7-2293185d7b88\", [{\"x\": [\"direct\", \"yandex\", \"yandex_market\", \"advcake\", \"google\", \"rtbhouse\", \"yandex.market\", \"rr\", \"serviceletter\", \"sale.mi-shop.com\"], \"type\": \"scatter\", \"name\": \"All Offers\", \"y\": [8295, 1816, 1659, 942, 602, 182, 165, 146, 131, 109]}], {\"xaxis\": {\"title\": \"\\u041f\\u043e\\u0441\\u043b\\u0435\\u0434\\u043d\\u0438\\u0439 \\u0438\\u0441\\u0442\\u043e\\u0447\\u043d\\u0438\\u043a\"}, \"title\": \"\\u0414\\u043b\\u044f \\u0432\\u0441\\u0435\\u0445 \\u043e\\u0444\\u0444\\u0435\\u0440\\u043e\\u0432\", \"yaxis\": {\"title\": \"\\u041a\\u043e\\u043b-\\u0432\\u043e \\u0441\\u0435\\u0441\\u0441\\u0438\\u0439 \\u0441 \\u0437\\u0430\\u043a\\u0430\\u0437\\u0430\\u043c\\u0438\"}}, {\"showLink\": false, \"linkText\": \"Export to plot.ly\"})});</script>"
      ]
     },
     "metadata": {},
     "output_type": "display_data"
    }
   ],
   "source": [
    "draw4All()"
   ]
  },
  {
   "cell_type": "markdown",
   "metadata": {},
   "source": [
    "### Распределение конверсии - отношение кол-ва сессий с заказами, к общему кол-ву сессий, - по источникам для заданного оффера. Источники отсортированны по кол-ву сессий с заказами"
   ]
  },
  {
   "cell_type": "code",
   "execution_count": 142,
   "metadata": {
    "collapsed": false
   },
   "outputs": [
    {
     "data": {
      "application/vnd.plotly.v1+json": {
       "data": [
        {
         "name": "All Offers",
         "type": "scatter",
         "x": [
          "direct",
          "advcake",
          "serviceletter",
          "sale.mi-shop.com",
          "yandex_direct",
          "newsletter",
          "google_adwords",
          "device",
          "mi_community",
          "survey"
         ],
         "y": [
          0.003486358635352884,
          0.007782623280778262,
          0.065439672801636,
          0.008728073892043045,
          0.0024660562941126447,
          0.007653948741737214,
          0.002820525508436835,
          0.0006383501104836732,
          0.009933774834437088,
          0.14285714285714285
         ]
        }
       ],
       "layout": {
        "title": "Для оффера 30",
        "xaxis": {
         "title": "Последний источник"
        },
        "yaxis": {
         "title": "Конверсия"
        }
       }
      },
      "text/html": [
       "<div id=\"b4501b6d-2c05-4b01-8b4b-51e118ca9a22\" style=\"height: 525px; width: 100%;\" class=\"plotly-graph-div\"></div><script type=\"text/javascript\">require([\"plotly\"], function(Plotly) { window.PLOTLYENV=window.PLOTLYENV || {};window.PLOTLYENV.BASE_URL=\"https://plot.ly\";Plotly.newPlot(\"b4501b6d-2c05-4b01-8b4b-51e118ca9a22\", [{\"x\": [\"direct\", \"advcake\", \"serviceletter\", \"sale.mi-shop.com\", \"yandex_direct\", \"newsletter\", \"google_adwords\", \"device\", \"mi_community\", \"survey\"], \"type\": \"scatter\", \"name\": \"All Offers\", \"y\": [0.003486358635352884, 0.007782623280778262, 0.065439672801636, 0.008728073892043045, 0.0024660562941126447, 0.007653948741737214, 0.002820525508436835, 0.0006383501104836732, 0.009933774834437088, 0.14285714285714285]}], {\"xaxis\": {\"title\": \"\\u041f\\u043e\\u0441\\u043b\\u0435\\u0434\\u043d\\u0438\\u0439 \\u0438\\u0441\\u0442\\u043e\\u0447\\u043d\\u0438\\u043a\"}, \"title\": \"\\u0414\\u043b\\u044f \\u043e\\u0444\\u0444\\u0435\\u0440\\u0430 30\", \"yaxis\": {\"title\": \"\\u041a\\u043e\\u043d\\u0432\\u0435\\u0440\\u0441\\u0438\\u044f\"}}, {\"showLink\": false, \"linkText\": \"Export to plot.ly\"})});</script>"
      ],
      "text/vnd.plotly.v1+html": [
       "<div id=\"b4501b6d-2c05-4b01-8b4b-51e118ca9a22\" style=\"height: 525px; width: 100%;\" class=\"plotly-graph-div\"></div><script type=\"text/javascript\">require([\"plotly\"], function(Plotly) { window.PLOTLYENV=window.PLOTLYENV || {};window.PLOTLYENV.BASE_URL=\"https://plot.ly\";Plotly.newPlot(\"b4501b6d-2c05-4b01-8b4b-51e118ca9a22\", [{\"x\": [\"direct\", \"advcake\", \"serviceletter\", \"sale.mi-shop.com\", \"yandex_direct\", \"newsletter\", \"google_adwords\", \"device\", \"mi_community\", \"survey\"], \"type\": \"scatter\", \"name\": \"All Offers\", \"y\": [0.003486358635352884, 0.007782623280778262, 0.065439672801636, 0.008728073892043045, 0.0024660562941126447, 0.007653948741737214, 0.002820525508436835, 0.0006383501104836732, 0.009933774834437088, 0.14285714285714285]}], {\"xaxis\": {\"title\": \"\\u041f\\u043e\\u0441\\u043b\\u0435\\u0434\\u043d\\u0438\\u0439 \\u0438\\u0441\\u0442\\u043e\\u0447\\u043d\\u0438\\u043a\"}, \"title\": \"\\u0414\\u043b\\u044f \\u043e\\u0444\\u0444\\u0435\\u0440\\u0430 30\", \"yaxis\": {\"title\": \"\\u041a\\u043e\\u043d\\u0432\\u0435\\u0440\\u0441\\u0438\\u044f\"}}, {\"showLink\": false, \"linkText\": \"Export to plot.ly\"})});</script>"
      ]
     },
     "metadata": {},
     "output_type": "display_data"
    }
   ],
   "source": [
    "draw4Cr(30)"
   ]
  },
  {
   "cell_type": "markdown",
   "metadata": {},
   "source": [
    "### Распределение конверсии - отношение кол-ва сессий с заказами, к общему кол-ву сессий, - по источникам для всех офферов. Источники отсортированны по кол-ву сессий с заказами"
   ]
  },
  {
   "cell_type": "code",
   "execution_count": 143,
   "metadata": {
    "collapsed": false
   },
   "outputs": [
    {
     "data": {
      "application/vnd.plotly.v1+json": {
       "data": [
        {
         "name": "All Offers",
         "type": "scatter",
         "x": [
          "direct",
          "yandex",
          "yandex_market",
          "advcake",
          "google",
          "rtbhouse",
          "yandex.market",
          "rr",
          "serviceletter",
          "sale.mi-shop.com"
         ],
         "y": [
          0.004742531156628738,
          0.004828323327501768,
          0.03471074380165288,
          0.011038329485932577,
          0.01294345302085573,
          0.0546875,
          0.014309253317145087,
          0.04944124619031493,
          0.06639635073492144,
          0.009146597297977678
         ]
        }
       ],
       "layout": {
        "title": "Для всех офферов",
        "xaxis": {
         "title": "Последний источник"
        },
        "yaxis": {
         "title": "Конверсия"
        }
       }
      },
      "text/html": [
       "<div id=\"af58a6d9-da99-4b20-8878-272053b821f7\" style=\"height: 525px; width: 100%;\" class=\"plotly-graph-div\"></div><script type=\"text/javascript\">require([\"plotly\"], function(Plotly) { window.PLOTLYENV=window.PLOTLYENV || {};window.PLOTLYENV.BASE_URL=\"https://plot.ly\";Plotly.newPlot(\"af58a6d9-da99-4b20-8878-272053b821f7\", [{\"x\": [\"direct\", \"yandex\", \"yandex_market\", \"advcake\", \"google\", \"rtbhouse\", \"yandex.market\", \"rr\", \"serviceletter\", \"sale.mi-shop.com\"], \"type\": \"scatter\", \"name\": \"All Offers\", \"y\": [0.004742531156628738, 0.004828323327501768, 0.03471074380165288, 0.011038329485932577, 0.01294345302085573, 0.0546875, 0.014309253317145087, 0.04944124619031493, 0.06639635073492144, 0.009146597297977678]}], {\"xaxis\": {\"title\": \"\\u041f\\u043e\\u0441\\u043b\\u0435\\u0434\\u043d\\u0438\\u0439 \\u0438\\u0441\\u0442\\u043e\\u0447\\u043d\\u0438\\u043a\"}, \"title\": \"\\u0414\\u043b\\u044f \\u0432\\u0441\\u0435\\u0445 \\u043e\\u0444\\u0444\\u0435\\u0440\\u043e\\u0432\", \"yaxis\": {\"title\": \"\\u041a\\u043e\\u043d\\u0432\\u0435\\u0440\\u0441\\u0438\\u044f\"}}, {\"showLink\": false, \"linkText\": \"Export to plot.ly\"})});</script>"
      ],
      "text/vnd.plotly.v1+html": [
       "<div id=\"af58a6d9-da99-4b20-8878-272053b821f7\" style=\"height: 525px; width: 100%;\" class=\"plotly-graph-div\"></div><script type=\"text/javascript\">require([\"plotly\"], function(Plotly) { window.PLOTLYENV=window.PLOTLYENV || {};window.PLOTLYENV.BASE_URL=\"https://plot.ly\";Plotly.newPlot(\"af58a6d9-da99-4b20-8878-272053b821f7\", [{\"x\": [\"direct\", \"yandex\", \"yandex_market\", \"advcake\", \"google\", \"rtbhouse\", \"yandex.market\", \"rr\", \"serviceletter\", \"sale.mi-shop.com\"], \"type\": \"scatter\", \"name\": \"All Offers\", \"y\": [0.004742531156628738, 0.004828323327501768, 0.03471074380165288, 0.011038329485932577, 0.01294345302085573, 0.0546875, 0.014309253317145087, 0.04944124619031493, 0.06639635073492144, 0.009146597297977678]}], {\"xaxis\": {\"title\": \"\\u041f\\u043e\\u0441\\u043b\\u0435\\u0434\\u043d\\u0438\\u0439 \\u0438\\u0441\\u0442\\u043e\\u0447\\u043d\\u0438\\u043a\"}, \"title\": \"\\u0414\\u043b\\u044f \\u0432\\u0441\\u0435\\u0445 \\u043e\\u0444\\u0444\\u0435\\u0440\\u043e\\u0432\", \"yaxis\": {\"title\": \"\\u041a\\u043e\\u043d\\u0432\\u0435\\u0440\\u0441\\u0438\\u044f\"}}, {\"showLink\": false, \"linkText\": \"Export to plot.ly\"})});</script>"
      ]
     },
     "metadata": {},
     "output_type": "display_data"
    }
   ],
   "source": [
    "draw4AllCr()"
   ]
  }
 ],
 "metadata": {
  "anaconda-cloud": {},
  "kernelspec": {
   "display_name": "Python [conda root]",
   "language": "python",
   "name": "conda-root-py"
  },
  "language_info": {
   "codemirror_mode": {
    "name": "ipython",
    "version": 3
   },
   "file_extension": ".py",
   "mimetype": "text/x-python",
   "name": "python",
   "nbconvert_exporter": "python",
   "pygments_lexer": "ipython3",
   "version": "3.5.2"
  }
 },
 "nbformat": 4,
 "nbformat_minor": 1
}
